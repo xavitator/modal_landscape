{
 "cells": [
  {
   "cell_type": "markdown",
   "metadata": {},
   "source": [
    "# Importation des modules"
   ]
  },
  {
   "cell_type": "code",
   "execution_count": 1,
   "metadata": {},
   "outputs": [],
   "source": [
    "import matplotlib.pyplot as plt\n",
    "import matplotlib\n",
    "import numpy as np\n",
    "\n",
    "from skimage import data\n",
    "\n",
    "from PIL.Image import *\n",
    "\n",
    "from imageio import imread\n",
    "import glob\n",
    "from tqdm import tnrange\n",
    "from tqdm.notebook import tqdm_notebook\n",
    "import tqdm\n",
    "import torch\n",
    "from torchvision import datasets,transforms\n",
    "import torch.nn.functional as F\n",
    "import torch.nn as nn\n",
    "from torchvision.utils import save_image\n",
    "\n",
    "import multiprocessing\n",
    "\n"
   ]
  },
  {
   "cell_type": "code",
   "execution_count": 2,
   "metadata": {},
   "outputs": [
    {
     "data": {
      "text/plain": [
       "True"
      ]
     },
     "execution_count": 2,
     "metadata": {},
     "output_type": "execute_result"
    }
   ],
   "source": [
    "torch.cuda.is_available()"
   ]
  },
  {
   "cell_type": "markdown",
   "metadata": {},
   "source": [
    "# Test de modèle\n"
   ]
  },
  {
   "cell_type": "markdown",
   "metadata": {},
   "source": [
    "## Chargement du dataset"
   ]
  },
  {
   "cell_type": "code",
   "execution_count": 3,
   "metadata": {},
   "outputs": [],
   "source": [
    "size = 60"
   ]
  },
  {
   "cell_type": "code",
   "execution_count": 4,
   "metadata": {},
   "outputs": [],
   "source": [
    "def image_to_numpy(image) :\n",
    "    n = len(image)\n",
    "    image_bis = []\n",
    "    for i in range (n) :\n",
    "        image_bis.append([])\n",
    "        for j in range(n) :\n",
    "            image_bis[i].append(image[i][j][0])\n",
    "    return np.array(image_bis)"
   ]
  },
  {
   "cell_type": "code",
   "execution_count": 5,
   "metadata": {},
   "outputs": [],
   "source": [
    "list_images = []\n",
    "list_labels = []\n",
    "\n",
    "list_path = set()\n",
    "\n",
    "path_imgs = \"transsup150/\"\n",
    "\n",
    "def select_unique_imgs():\n",
    "    for image_path in tqdm_notebook(glob.glob(path_imgs + \"*.png\")):\n",
    "        label = image_path.find('l')\n",
    "        couche = image_path.find('c')\n",
    "\n",
    "        id_image = image_path[:couche]\n",
    "        label_image = int(image_path[label+1:couche])\n",
    "        list_path.add((id_image, label_image))\n",
    "        \n",
    "\n",
    "\n",
    "\n",
    "def load_pictures(data_files):\n",
    "    with multiprocessing.Pool() as p :\n",
    "        res = list(tqdm.tqdm(p.imap(load_image.load_img_from_path, data_files), total=len(data_files)))\n",
    "    for lot_lab, lot_img in tqdm.tqdm(res, total=len(res)):\n",
    "        list_images.append(lot_img)\n",
    "        list_labels.append(lot_lab)"
   ]
  },
  {
   "cell_type": "code",
   "execution_count": 6,
   "metadata": {},
   "outputs": [
    {
     "data": {
      "application/vnd.jupyter.widget-view+json": {
       "model_id": "6d13e010a1624920bcb0849d34a6b5c0",
       "version_major": 2,
       "version_minor": 0
      },
      "text/plain": [
       "HBox(children=(HTML(value=''), FloatProgress(value=0.0, max=868815.0), HTML(value='')))"
      ]
     },
     "metadata": {},
     "output_type": "display_data"
    },
    {
     "name": "stdout",
     "output_type": "stream",
     "text": [
      "\n"
     ]
    }
   ],
   "source": [
    "select_unique_imgs()"
   ]
  },
  {
   "cell_type": "code",
<<<<<<< Updated upstream:modal_cuda_lumin_plus150.ipynb
   "execution_count": 24,
=======
   "execution_count": 27,
>>>>>>> Stashed changes:modal_cuda_lumin-Copy1.ipynb
   "metadata": {},
   "outputs": [
    {
     "name": "stderr",
     "output_type": "stream",
     "text": [
<<<<<<< Updated upstream:modal_cuda_lumin_plus150.ipynb
      "  5%|███▍                                                                       | 4431/96535 [07:59<2:46:10,  9.24it/s]\n"
     ]
    },
    {
     "ename": "KeyboardInterrupt",
     "evalue": "",
     "output_type": "error",
     "traceback": [
      "\u001b[1;31m---------------------------------------------------------------------------\u001b[0m",
      "\u001b[1;31mIndexError\u001b[0m                                Traceback (most recent call last)",
      "\u001b[1;32m~\\anaconda3\\envs\\modal\\lib\\multiprocessing\\pool.py\u001b[0m in \u001b[0;36mnext\u001b[1;34m(self, timeout)\u001b[0m\n\u001b[0;32m    732\u001b[0m             \u001b[1;32mtry\u001b[0m\u001b[1;33m:\u001b[0m\u001b[1;33m\u001b[0m\u001b[1;33m\u001b[0m\u001b[0m\n\u001b[1;32m--> 733\u001b[1;33m                 \u001b[0mitem\u001b[0m \u001b[1;33m=\u001b[0m \u001b[0mself\u001b[0m\u001b[1;33m.\u001b[0m\u001b[0m_items\u001b[0m\u001b[1;33m.\u001b[0m\u001b[0mpopleft\u001b[0m\u001b[1;33m(\u001b[0m\u001b[1;33m)\u001b[0m\u001b[1;33m\u001b[0m\u001b[1;33m\u001b[0m\u001b[0m\n\u001b[0m\u001b[0;32m    734\u001b[0m             \u001b[1;32mexcept\u001b[0m \u001b[0mIndexError\u001b[0m\u001b[1;33m:\u001b[0m\u001b[1;33m\u001b[0m\u001b[1;33m\u001b[0m\u001b[0m\n",
      "\u001b[1;31mIndexError\u001b[0m: pop from an empty deque",
      "\nDuring handling of the above exception, another exception occurred:\n",
      "\u001b[1;31mKeyboardInterrupt\u001b[0m                         Traceback (most recent call last)",
      "\u001b[1;32m<ipython-input-24-e51cc0206903>\u001b[0m in \u001b[0;36m<module>\u001b[1;34m\u001b[0m\n\u001b[0;32m      3\u001b[0m \u001b[1;33m\u001b[0m\u001b[0m\n\u001b[0;32m      4\u001b[0m \u001b[1;32mif\u001b[0m \u001b[0m__name__\u001b[0m \u001b[1;33m==\u001b[0m  \u001b[1;34m'__main__'\u001b[0m \u001b[1;33m:\u001b[0m\u001b[1;33m\u001b[0m\u001b[1;33m\u001b[0m\u001b[0m\n\u001b[1;32m----> 5\u001b[1;33m     \u001b[0mload_pictures\u001b[0m\u001b[1;33m(\u001b[0m\u001b[0mlist_path\u001b[0m\u001b[1;33m)\u001b[0m\u001b[1;33m\u001b[0m\u001b[1;33m\u001b[0m\u001b[0m\n\u001b[0m",
      "\u001b[1;32m<ipython-input-5-a7e67c7b5d99>\u001b[0m in \u001b[0;36mload_pictures\u001b[1;34m(data_files)\u001b[0m\n\u001b[0;32m     20\u001b[0m \u001b[1;32mdef\u001b[0m \u001b[0mload_pictures\u001b[0m\u001b[1;33m(\u001b[0m\u001b[0mdata_files\u001b[0m\u001b[1;33m)\u001b[0m\u001b[1;33m:\u001b[0m\u001b[1;33m\u001b[0m\u001b[1;33m\u001b[0m\u001b[0m\n\u001b[0;32m     21\u001b[0m     \u001b[1;32mwith\u001b[0m \u001b[0mmultiprocessing\u001b[0m\u001b[1;33m.\u001b[0m\u001b[0mPool\u001b[0m\u001b[1;33m(\u001b[0m\u001b[1;33m)\u001b[0m \u001b[1;32mas\u001b[0m \u001b[0mp\u001b[0m \u001b[1;33m:\u001b[0m\u001b[1;33m\u001b[0m\u001b[1;33m\u001b[0m\u001b[0m\n\u001b[1;32m---> 22\u001b[1;33m         \u001b[0mres\u001b[0m \u001b[1;33m=\u001b[0m \u001b[0mlist\u001b[0m\u001b[1;33m(\u001b[0m\u001b[0mtqdm\u001b[0m\u001b[1;33m.\u001b[0m\u001b[0mtqdm\u001b[0m\u001b[1;33m(\u001b[0m\u001b[0mp\u001b[0m\u001b[1;33m.\u001b[0m\u001b[0mimap\u001b[0m\u001b[1;33m(\u001b[0m\u001b[0mload_image\u001b[0m\u001b[1;33m.\u001b[0m\u001b[0mload_img_from_path\u001b[0m\u001b[1;33m,\u001b[0m \u001b[0mdata_files\u001b[0m\u001b[1;33m)\u001b[0m\u001b[1;33m,\u001b[0m \u001b[0mtotal\u001b[0m\u001b[1;33m=\u001b[0m\u001b[0mlen\u001b[0m\u001b[1;33m(\u001b[0m\u001b[0mdata_files\u001b[0m\u001b[1;33m)\u001b[0m\u001b[1;33m)\u001b[0m\u001b[1;33m)\u001b[0m\u001b[1;33m\u001b[0m\u001b[1;33m\u001b[0m\u001b[0m\n\u001b[0m\u001b[0;32m     23\u001b[0m     \u001b[1;32mfor\u001b[0m \u001b[0mlot_lab\u001b[0m\u001b[1;33m,\u001b[0m \u001b[0mlot_img\u001b[0m \u001b[1;32min\u001b[0m \u001b[0mtqdm\u001b[0m\u001b[1;33m.\u001b[0m\u001b[0mtqdm\u001b[0m\u001b[1;33m(\u001b[0m\u001b[0mres\u001b[0m\u001b[1;33m,\u001b[0m \u001b[0mtotal\u001b[0m\u001b[1;33m=\u001b[0m\u001b[0mlen\u001b[0m\u001b[1;33m(\u001b[0m\u001b[0mres\u001b[0m\u001b[1;33m)\u001b[0m\u001b[1;33m)\u001b[0m\u001b[1;33m:\u001b[0m\u001b[1;33m\u001b[0m\u001b[1;33m\u001b[0m\u001b[0m\n\u001b[0;32m     24\u001b[0m         \u001b[0mlist_images\u001b[0m\u001b[1;33m.\u001b[0m\u001b[0mappend\u001b[0m\u001b[1;33m(\u001b[0m\u001b[0mlot_img\u001b[0m\u001b[1;33m)\u001b[0m\u001b[1;33m\u001b[0m\u001b[1;33m\u001b[0m\u001b[0m\n",
      "\u001b[1;32m~\\anaconda3\\envs\\modal\\lib\\site-packages\\tqdm\\std.py\u001b[0m in \u001b[0;36m__iter__\u001b[1;34m(self)\u001b[0m\n\u001b[0;32m   1163\u001b[0m \u001b[1;33m\u001b[0m\u001b[0m\n\u001b[0;32m   1164\u001b[0m         \u001b[1;32mtry\u001b[0m\u001b[1;33m:\u001b[0m\u001b[1;33m\u001b[0m\u001b[1;33m\u001b[0m\u001b[0m\n\u001b[1;32m-> 1165\u001b[1;33m             \u001b[1;32mfor\u001b[0m \u001b[0mobj\u001b[0m \u001b[1;32min\u001b[0m \u001b[0miterable\u001b[0m\u001b[1;33m:\u001b[0m\u001b[1;33m\u001b[0m\u001b[1;33m\u001b[0m\u001b[0m\n\u001b[0m\u001b[0;32m   1166\u001b[0m                 \u001b[1;32myield\u001b[0m \u001b[0mobj\u001b[0m\u001b[1;33m\u001b[0m\u001b[1;33m\u001b[0m\u001b[0m\n\u001b[0;32m   1167\u001b[0m                 \u001b[1;31m# Update and possibly print the progressbar.\u001b[0m\u001b[1;33m\u001b[0m\u001b[1;33m\u001b[0m\u001b[1;33m\u001b[0m\u001b[0m\n",
      "\u001b[1;32m~\\anaconda3\\envs\\modal\\lib\\multiprocessing\\pool.py\u001b[0m in \u001b[0;36mnext\u001b[1;34m(self, timeout)\u001b[0m\n\u001b[0;32m    735\u001b[0m                 \u001b[1;32mif\u001b[0m \u001b[0mself\u001b[0m\u001b[1;33m.\u001b[0m\u001b[0m_index\u001b[0m \u001b[1;33m==\u001b[0m \u001b[0mself\u001b[0m\u001b[1;33m.\u001b[0m\u001b[0m_length\u001b[0m\u001b[1;33m:\u001b[0m\u001b[1;33m\u001b[0m\u001b[1;33m\u001b[0m\u001b[0m\n\u001b[0;32m    736\u001b[0m                     \u001b[1;32mraise\u001b[0m \u001b[0mStopIteration\u001b[0m \u001b[1;32mfrom\u001b[0m \u001b[1;32mNone\u001b[0m\u001b[1;33m\u001b[0m\u001b[1;33m\u001b[0m\u001b[0m\n\u001b[1;32m--> 737\u001b[1;33m                 \u001b[0mself\u001b[0m\u001b[1;33m.\u001b[0m\u001b[0m_cond\u001b[0m\u001b[1;33m.\u001b[0m\u001b[0mwait\u001b[0m\u001b[1;33m(\u001b[0m\u001b[0mtimeout\u001b[0m\u001b[1;33m)\u001b[0m\u001b[1;33m\u001b[0m\u001b[1;33m\u001b[0m\u001b[0m\n\u001b[0m\u001b[0;32m    738\u001b[0m                 \u001b[1;32mtry\u001b[0m\u001b[1;33m:\u001b[0m\u001b[1;33m\u001b[0m\u001b[1;33m\u001b[0m\u001b[0m\n\u001b[0;32m    739\u001b[0m                     \u001b[0mitem\u001b[0m \u001b[1;33m=\u001b[0m \u001b[0mself\u001b[0m\u001b[1;33m.\u001b[0m\u001b[0m_items\u001b[0m\u001b[1;33m.\u001b[0m\u001b[0mpopleft\u001b[0m\u001b[1;33m(\u001b[0m\u001b[1;33m)\u001b[0m\u001b[1;33m\u001b[0m\u001b[1;33m\u001b[0m\u001b[0m\n",
      "\u001b[1;32m~\\anaconda3\\envs\\modal\\lib\\threading.py\u001b[0m in \u001b[0;36mwait\u001b[1;34m(self, timeout)\u001b[0m\n\u001b[0;32m    294\u001b[0m         \u001b[1;32mtry\u001b[0m\u001b[1;33m:\u001b[0m    \u001b[1;31m# restore state no matter what (e.g., KeyboardInterrupt)\u001b[0m\u001b[1;33m\u001b[0m\u001b[1;33m\u001b[0m\u001b[0m\n\u001b[0;32m    295\u001b[0m             \u001b[1;32mif\u001b[0m \u001b[0mtimeout\u001b[0m \u001b[1;32mis\u001b[0m \u001b[1;32mNone\u001b[0m\u001b[1;33m:\u001b[0m\u001b[1;33m\u001b[0m\u001b[1;33m\u001b[0m\u001b[0m\n\u001b[1;32m--> 296\u001b[1;33m                 \u001b[0mwaiter\u001b[0m\u001b[1;33m.\u001b[0m\u001b[0macquire\u001b[0m\u001b[1;33m(\u001b[0m\u001b[1;33m)\u001b[0m\u001b[1;33m\u001b[0m\u001b[1;33m\u001b[0m\u001b[0m\n\u001b[0m\u001b[0;32m    297\u001b[0m                 \u001b[0mgotit\u001b[0m \u001b[1;33m=\u001b[0m \u001b[1;32mTrue\u001b[0m\u001b[1;33m\u001b[0m\u001b[1;33m\u001b[0m\u001b[0m\n\u001b[0;32m    298\u001b[0m             \u001b[1;32melse\u001b[0m\u001b[1;33m:\u001b[0m\u001b[1;33m\u001b[0m\u001b[1;33m\u001b[0m\u001b[0m\n",
      "\u001b[1;31mKeyboardInterrupt\u001b[0m: "
=======
      "100%|██████████| 96535/96535 [54:04<00:00, 29.75it/s]  \n",
      "100%|██████████| 96535/96535 [00:00<00:00, 1500480.41it/s]\n"
>>>>>>> Stashed changes:modal_cuda_lumin-Copy1.ipynb
     ]
    }
   ],
   "source": [
    "import load_image\n",
    "\n",
    "\n",
    "if __name__ ==  '__main__' : \n",
    "    load_pictures(list_path)"
   ]
  },
  {
   "cell_type": "code",
<<<<<<< Updated upstream:modal_cuda_lumin_plus150.ipynb
   "execution_count": 8,
=======
   "execution_count": 28,
>>>>>>> Stashed changes:modal_cuda_lumin-Copy1.ipynb
   "metadata": {},
   "outputs": [
    {
     "data": {
<<<<<<< Updated upstream:modal_cuda_lumin_plus150.ipynb
      "image/png": "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\n",
=======
      "image/png": "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\n",
>>>>>>> Stashed changes:modal_cuda_lumin-Copy1.ipynb
      "text/plain": [
       "<Figure size 432x288 with 1 Axes>"
      ]
     },
     "metadata": {
      "needs_background": "light"
     },
     "output_type": "display_data"
    }
   ],
   "source": [
    "n = len(list_images)\n",
    "num_label = plt.hist(list_labels, bins=range(max(list_labels)+2))"
   ]
  },
  {
   "cell_type": "code",
<<<<<<< Updated upstream:modal_cuda_lumin_plus150.ipynb
   "execution_count": 9,
=======
   "execution_count": 29,
>>>>>>> Stashed changes:modal_cuda_lumin-Copy1.ipynb
   "metadata": {},
   "outputs": [],
   "source": [
    "num_label = num_label[0]\n",
    "deep=9"
   ]
  },
  {
   "cell_type": "code",
<<<<<<< Updated upstream:modal_cuda_lumin_plus150.ipynb
   "execution_count": 10,
=======
   "execution_count": 30,
>>>>>>> Stashed changes:modal_cuda_lumin-Copy1.ipynb
   "metadata": {},
   "outputs": [],
   "source": [
    "nouv_label = [-1]*(max(list_labels)+2)\n",
    "compteur = 0\n",
    "for i in range(max(list_labels)+1) :\n",
    "    if num_label[i]>0 :\n",
    "        nouv_label[i]=compteur\n",
    "        compteur+=1"
   ]
  },
  {
   "cell_type": "code",
<<<<<<< Updated upstream:modal_cuda_lumin_plus150.ipynb
   "execution_count": 11,
=======
   "execution_count": 31,
>>>>>>> Stashed changes:modal_cuda_lumin-Copy1.ipynb
   "metadata": {
    "scrolled": true
   },
   "outputs": [
    {
     "data": {
      "text/plain": [
<<<<<<< Updated upstream:modal_cuda_lumin_plus150.ipynb
       "[<matplotlib.lines.Line2D at 0x198d5ce19c8>]"
      ]
     },
     "execution_count": 11,
=======
       "[<matplotlib.lines.Line2D at 0x7f015997faf0>]"
      ]
     },
     "execution_count": 31,
>>>>>>> Stashed changes:modal_cuda_lumin-Copy1.ipynb
     "metadata": {},
     "output_type": "execute_result"
    },
    {
     "data": {
      "image/png": "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\n",
      "text/plain": [
       "<Figure size 432x288 with 1 Axes>"
      ]
     },
     "metadata": {
      "needs_background": "light"
     },
     "output_type": "display_data"
    }
   ],
   "source": [
    "plt.plot(nouv_label)"
   ]
  },
  {
   "cell_type": "code",
<<<<<<< Updated upstream:modal_cuda_lumin_plus150.ipynb
   "execution_count": 12,
=======
   "execution_count": 32,
>>>>>>> Stashed changes:modal_cuda_lumin-Copy1.ipynb
   "metadata": {},
   "outputs": [
    {
     "name": "stdout",
     "output_type": "stream",
     "text": [
      "651\n"
     ]
    }
   ],
   "source": [
    "label_max = max(nouv_label)\n",
    "print(label_max)"
   ]
  },
  {
   "cell_type": "code",
<<<<<<< Updated upstream:modal_cuda_lumin_plus150.ipynb
   "execution_count": 13,
=======
   "execution_count": 33,
>>>>>>> Stashed changes:modal_cuda_lumin-Copy1.ipynb
   "metadata": {},
   "outputs": [],
   "source": [
    "nouv_list_labels = []\n",
    "for i in range(len(list_labels)) :\n",
    "    nouv_list_labels.append(nouv_label[list_labels[i]])"
   ]
  },
  {
   "cell_type": "code",
<<<<<<< Updated upstream:modal_cuda_lumin_plus150.ipynb
   "execution_count": 14,
=======
   "execution_count": 34,
>>>>>>> Stashed changes:modal_cuda_lumin-Copy1.ipynb
   "metadata": {
    "scrolled": true
   },
   "outputs": [
    {
     "data": {
      "text/plain": [
<<<<<<< Updated upstream:modal_cuda_lumin_plus150.ipynb
       "(array([150., 150., 149., 125., 150., 150., 150., 150., 137., 150., 149.,\n",
       "        149., 149., 150., 146., 148., 150., 150., 134., 150., 150., 150.,\n",
       "        149., 150., 149., 150., 150., 150., 150., 149., 150., 150., 151.,\n",
       "        149., 150., 141., 150., 150., 150., 150., 150., 150., 150., 150.,\n",
       "        150., 150., 150., 149., 150., 150., 148., 150., 149., 148., 150.,\n",
       "        150., 150., 150., 149., 150., 150., 150., 137., 150., 144., 150.,\n",
       "        144., 150., 150., 149., 150., 150., 149., 150., 148., 150., 150.,\n",
       "        150., 149., 150., 150., 150., 150., 149., 150., 149., 150., 149.,\n",
       "        150., 150., 150., 150., 150., 150., 150., 150., 150., 150., 150.,\n",
       "        150., 150., 148., 149., 150., 150., 150., 150., 150., 144., 150.,\n",
       "        150., 150., 150., 149., 150., 147., 150., 150., 149., 150., 150.,\n",
       "        150., 150., 150., 150., 150., 150., 150., 150., 149., 150., 149.,\n",
       "        150., 150., 150., 150., 150., 150., 150., 150., 150., 150., 150.,\n",
       "        130., 140., 148., 150., 150., 150., 150., 150., 151., 149., 148.,\n",
       "        150., 137., 149., 150., 150., 150., 144., 150., 150., 150., 150.,\n",
       "        150., 150., 150., 149., 150., 150., 150., 146., 145., 150., 150.,\n",
       "        150., 150., 146., 150., 150., 141., 150., 150., 141., 150., 150.,\n",
       "        150., 150., 131., 149., 150., 150., 150., 138., 150., 150., 150.,\n",
       "        150., 142., 148., 149., 150., 149., 149., 150., 149., 150., 150.,\n",
       "        150., 149., 150., 150., 150., 150., 150., 150., 150., 149., 150.,\n",
       "        150., 150., 150., 149., 149., 150., 146., 136., 141., 150., 150.,\n",
       "        150., 145., 150., 148., 150., 118., 149., 150., 138., 149., 150.,\n",
       "        150., 150., 149., 150., 150., 150., 150., 150., 150., 150., 150.,\n",
       "        150., 150., 150., 149., 150., 150., 150., 150., 150., 150., 150.,\n",
       "        150., 149., 150., 150., 151., 150., 149., 150., 150., 150., 150.,\n",
       "        149., 150., 150., 150., 150., 149., 150., 150., 149., 150., 150.,\n",
       "        146., 150., 149., 150., 150., 150., 150., 144., 150., 150., 150.,\n",
       "        150., 149., 149., 150., 150., 141., 149., 150., 150., 150., 150.,\n",
       "        140., 142., 150., 143., 150., 150., 150., 150., 149., 149., 150.,\n",
       "        150., 150., 150., 150., 126., 150., 149., 149., 150., 150., 149.,\n",
       "        149., 149., 150., 150., 136., 150., 108., 133., 150., 112., 124.,\n",
       "        127., 150., 132., 150., 150., 150., 149., 150., 150., 150., 150.,\n",
       "        150., 150., 150., 150., 150., 150., 149., 150., 150., 144., 150.,\n",
       "        150., 150., 150., 150., 149., 150., 146., 150., 150., 150., 150.,\n",
       "        150., 150., 150., 150., 150., 150., 150., 128., 150., 150., 150.,\n",
       "        149., 150., 149., 150., 149., 149., 116., 150., 149., 150., 147.,\n",
       "        150., 149., 150., 147., 150., 150., 150., 127., 150., 149., 150.,\n",
       "        150., 150., 150., 150., 134., 150., 149., 150., 150., 148., 150.,\n",
       "        150., 150., 150., 150., 148., 146., 150., 150., 150., 150., 112.,\n",
       "        150., 149., 150., 150., 150., 150., 150., 150., 149., 150., 149.,\n",
       "        149., 150., 150., 102., 129., 150., 150., 149., 150., 150., 150.,\n",
       "        150., 150., 150., 150., 150., 150., 150., 150., 150., 150., 149.,\n",
       "        150., 150., 149., 150., 150., 150., 150., 150., 150., 150., 150.,\n",
       "        150., 150., 150., 150., 150., 150., 150., 148., 149., 150., 150.,\n",
       "        150., 150., 150., 150., 135., 150., 150., 150., 149., 150., 149.,\n",
       "        150., 150., 150., 130., 150., 124., 150., 149., 150., 150., 150.,\n",
       "        150., 112., 150., 150., 150., 150., 149., 150., 149., 150., 149.,\n",
       "        150., 135., 150., 150., 150., 150., 150., 150., 149., 150., 133.,\n",
       "        150., 150., 150., 150., 150., 150., 150., 150., 150., 148., 150.,\n",
       "        149., 150., 150., 150., 150., 145., 149., 150., 150., 149., 150.,\n",
       "        150., 150., 149., 150., 150., 148., 150., 150., 150., 149., 148.,\n",
       "        150., 150., 150., 150., 150., 149., 150., 150., 150., 150., 119.,\n",
       "        150., 150., 150., 150., 150., 149., 150., 141., 150., 150., 133.,\n",
       "        149., 150., 150., 150., 149., 150., 150., 150., 150., 150., 137.,\n",
       "        150., 150., 150., 150., 150., 150., 150., 144., 150., 150., 150.,\n",
       "        150., 150., 132., 150., 150., 150., 150., 150., 102., 150., 150.,\n",
       "        150., 150., 150., 150., 150., 150., 150., 150., 150., 150., 121.,\n",
       "        150., 140., 150., 149., 149., 110., 147., 150., 149., 150., 150.,\n",
       "        150., 151., 150., 150., 149., 150., 150., 150., 150., 143., 150.,\n",
       "        135., 150., 150.]),\n",
=======
       "(array([153., 150., 150., 127., 153., 153., 154., 155., 142., 157., 149.,\n",
       "        153., 153., 152., 149., 150., 156., 152., 138., 154., 151., 154.,\n",
       "        150., 151., 151., 155., 154., 154., 152., 152., 153., 151., 152.,\n",
       "        151., 152., 142., 150., 153., 153., 153., 155., 157., 154., 153.,\n",
       "        151., 154., 155., 157., 152., 153., 152., 151., 153., 150., 154.,\n",
       "        154., 152., 153., 154., 153., 153., 151., 140., 151., 149., 151.,\n",
       "        146., 151., 153., 151., 151., 153., 152., 154., 149., 154., 151.,\n",
       "        152., 153., 153., 156., 155., 151., 151., 151., 151., 154., 150.,\n",
       "        155., 151., 152., 154., 155., 153., 153., 151., 155., 151., 151.,\n",
       "        153., 152., 152., 153., 151., 152., 151., 154., 152., 149., 151.,\n",
       "        153., 151., 154., 153., 155., 150., 151., 156., 150., 153., 153.,\n",
       "        152., 156., 153., 153., 151., 152., 155., 151., 153., 153., 152.,\n",
       "        152., 154., 150., 152., 150., 156., 155., 152., 153., 152., 154.,\n",
       "        134., 142., 151., 157., 151., 157., 154., 151., 153., 152., 149.,\n",
       "        155., 139., 150., 153., 152., 153., 147., 154., 156., 153., 153.,\n",
       "        154., 155., 151., 155., 156., 151., 152., 146., 146., 151., 155.,\n",
       "        151., 153., 148., 157., 151., 142., 150., 153., 144., 151., 154.,\n",
       "        153., 153., 136., 150., 152., 153., 152., 140., 154., 160., 153.,\n",
       "        150., 148., 150., 152., 152., 154., 156., 153., 152., 151., 152.,\n",
       "        153., 155., 152., 152., 153., 158., 152., 150., 151., 152., 151.,\n",
       "        154., 155., 153., 151., 151., 154., 151., 142., 146., 153., 152.,\n",
       "        152., 146., 153., 151., 156., 122., 151., 153., 142., 150., 153.,\n",
       "        152., 157., 150., 154., 154., 153., 152., 153., 151., 153., 154.,\n",
       "        151., 151., 152., 151., 151., 151., 151., 152., 154., 155., 152.,\n",
       "        154., 150., 152., 155., 151., 151., 154., 152., 155., 151., 152.,\n",
       "        151., 151., 154., 152., 155., 152., 154., 153., 153., 156., 154.,\n",
       "        149., 155., 150., 154., 152., 154., 154., 144., 155., 152., 150.,\n",
       "        151., 155., 152., 155., 154., 143., 150., 154., 155., 153., 154.,\n",
       "        145., 143., 155., 147., 151., 155., 153., 153., 154., 152., 152.,\n",
       "        155., 152., 153., 153., 129., 157., 155., 154., 153., 152., 150.,\n",
       "        151., 152., 150., 150., 139., 154., 112., 136., 152., 113., 126.,\n",
       "        130., 152., 133., 156., 155., 153., 150., 155., 153., 152., 154.,\n",
       "        152., 154., 154., 154., 151., 152., 151., 154., 153., 147., 151.,\n",
       "        154., 152., 153., 152., 154., 151., 153., 153., 156., 155., 151.,\n",
       "        152., 153., 151., 151., 152., 153., 152., 130., 153., 150., 156.,\n",
       "        150., 152., 152., 155., 154., 153., 117., 155., 154., 151., 149.,\n",
       "        153., 152., 154., 150., 155., 151., 153., 128., 154., 150., 152.,\n",
       "        154., 152., 152., 152., 141., 152., 151., 153., 157., 149., 156.,\n",
       "        151., 153., 154., 155., 151., 149., 151., 151., 152., 153., 114.,\n",
       "        154., 151., 152., 153., 152., 155., 154., 153., 150., 156., 154.,\n",
       "        152., 153., 151., 105., 134., 152., 150., 150., 156., 151., 158.,\n",
       "        154., 152., 150., 154., 157., 156., 150., 153., 152., 151., 152.,\n",
       "        154., 150., 151., 153., 152., 150., 151., 150., 154., 154., 157.,\n",
       "        154., 154., 159., 153., 151., 154., 152., 154., 154., 156., 151.,\n",
       "        153., 151., 151., 154., 137., 152., 154., 152., 158., 153., 155.,\n",
       "        152., 152., 156., 133., 154., 126., 155., 153., 153., 154., 156.,\n",
       "        153., 114., 155., 156., 154., 156., 152., 155., 153., 154., 153.,\n",
       "        155., 139., 154., 154., 154., 153., 154., 153., 151., 157., 137.,\n",
       "        151., 156., 153., 153., 151., 156., 152., 152., 154., 150., 153.,\n",
       "        150., 153., 152., 155., 151., 152., 151., 152., 156., 151., 151.,\n",
       "        153., 152., 154., 151., 154., 149., 152., 154., 154., 149., 149.,\n",
       "        160., 157., 154., 153., 156., 152., 152., 155., 151., 154., 122.,\n",
       "        153., 155., 153., 152., 154., 155., 152., 144., 150., 154., 137.,\n",
       "        153., 154., 154., 152., 152., 151., 153., 156., 154., 153., 142.,\n",
       "        155., 152., 156., 153., 151., 154., 157., 145., 155., 151., 152.,\n",
       "        152., 153., 133., 152., 156., 153., 153., 153., 104., 152., 153.,\n",
       "        151., 152., 152., 151., 154., 152., 152., 152., 154., 152., 122.,\n",
       "        153., 141., 155., 152., 156., 111., 148., 153., 150., 154., 153.,\n",
       "        155., 154., 159., 152., 155., 152., 151., 158., 158., 146., 152.,\n",
       "        137., 155., 150.]),\n",
>>>>>>> Stashed changes:modal_cuda_lumin-Copy1.ipynb
       " array([  0,   1,   2,   3,   4,   5,   6,   7,   8,   9,  10,  11,  12,\n",
       "         13,  14,  15,  16,  17,  18,  19,  20,  21,  22,  23,  24,  25,\n",
       "         26,  27,  28,  29,  30,  31,  32,  33,  34,  35,  36,  37,  38,\n",
       "         39,  40,  41,  42,  43,  44,  45,  46,  47,  48,  49,  50,  51,\n",
       "         52,  53,  54,  55,  56,  57,  58,  59,  60,  61,  62,  63,  64,\n",
       "         65,  66,  67,  68,  69,  70,  71,  72,  73,  74,  75,  76,  77,\n",
       "         78,  79,  80,  81,  82,  83,  84,  85,  86,  87,  88,  89,  90,\n",
       "         91,  92,  93,  94,  95,  96,  97,  98,  99, 100, 101, 102, 103,\n",
       "        104, 105, 106, 107, 108, 109, 110, 111, 112, 113, 114, 115, 116,\n",
       "        117, 118, 119, 120, 121, 122, 123, 124, 125, 126, 127, 128, 129,\n",
       "        130, 131, 132, 133, 134, 135, 136, 137, 138, 139, 140, 141, 142,\n",
       "        143, 144, 145, 146, 147, 148, 149, 150, 151, 152, 153, 154, 155,\n",
       "        156, 157, 158, 159, 160, 161, 162, 163, 164, 165, 166, 167, 168,\n",
       "        169, 170, 171, 172, 173, 174, 175, 176, 177, 178, 179, 180, 181,\n",
       "        182, 183, 184, 185, 186, 187, 188, 189, 190, 191, 192, 193, 194,\n",
       "        195, 196, 197, 198, 199, 200, 201, 202, 203, 204, 205, 206, 207,\n",
       "        208, 209, 210, 211, 212, 213, 214, 215, 216, 217, 218, 219, 220,\n",
       "        221, 222, 223, 224, 225, 226, 227, 228, 229, 230, 231, 232, 233,\n",
       "        234, 235, 236, 237, 238, 239, 240, 241, 242, 243, 244, 245, 246,\n",
       "        247, 248, 249, 250, 251, 252, 253, 254, 255, 256, 257, 258, 259,\n",
       "        260, 261, 262, 263, 264, 265, 266, 267, 268, 269, 270, 271, 272,\n",
       "        273, 274, 275, 276, 277, 278, 279, 280, 281, 282, 283, 284, 285,\n",
       "        286, 287, 288, 289, 290, 291, 292, 293, 294, 295, 296, 297, 298,\n",
       "        299, 300, 301, 302, 303, 304, 305, 306, 307, 308, 309, 310, 311,\n",
       "        312, 313, 314, 315, 316, 317, 318, 319, 320, 321, 322, 323, 324,\n",
       "        325, 326, 327, 328, 329, 330, 331, 332, 333, 334, 335, 336, 337,\n",
       "        338, 339, 340, 341, 342, 343, 344, 345, 346, 347, 348, 349, 350,\n",
       "        351, 352, 353, 354, 355, 356, 357, 358, 359, 360, 361, 362, 363,\n",
       "        364, 365, 366, 367, 368, 369, 370, 371, 372, 373, 374, 375, 376,\n",
       "        377, 378, 379, 380, 381, 382, 383, 384, 385, 386, 387, 388, 389,\n",
       "        390, 391, 392, 393, 394, 395, 396, 397, 398, 399, 400, 401, 402,\n",
       "        403, 404, 405, 406, 407, 408, 409, 410, 411, 412, 413, 414, 415,\n",
       "        416, 417, 418, 419, 420, 421, 422, 423, 424, 425, 426, 427, 428,\n",
       "        429, 430, 431, 432, 433, 434, 435, 436, 437, 438, 439, 440, 441,\n",
       "        442, 443, 444, 445, 446, 447, 448, 449, 450, 451, 452, 453, 454,\n",
       "        455, 456, 457, 458, 459, 460, 461, 462, 463, 464, 465, 466, 467,\n",
       "        468, 469, 470, 471, 472, 473, 474, 475, 476, 477, 478, 479, 480,\n",
       "        481, 482, 483, 484, 485, 486, 487, 488, 489, 490, 491, 492, 493,\n",
       "        494, 495, 496, 497, 498, 499, 500, 501, 502, 503, 504, 505, 506,\n",
       "        507, 508, 509, 510, 511, 512, 513, 514, 515, 516, 517, 518, 519,\n",
       "        520, 521, 522, 523, 524, 525, 526, 527, 528, 529, 530, 531, 532,\n",
       "        533, 534, 535, 536, 537, 538, 539, 540, 541, 542, 543, 544, 545,\n",
       "        546, 547, 548, 549, 550, 551, 552, 553, 554, 555, 556, 557, 558,\n",
       "        559, 560, 561, 562, 563, 564, 565, 566, 567, 568, 569, 570, 571,\n",
       "        572, 573, 574, 575, 576, 577, 578, 579, 580, 581, 582, 583, 584,\n",
       "        585, 586, 587, 588, 589, 590, 591, 592, 593, 594, 595, 596, 597,\n",
       "        598, 599, 600, 601, 602, 603, 604, 605, 606, 607, 608, 609, 610,\n",
       "        611, 612, 613, 614, 615, 616, 617, 618, 619, 620, 621, 622, 623,\n",
       "        624, 625, 626, 627, 628, 629, 630, 631, 632, 633, 634, 635, 636,\n",
       "        637, 638, 639, 640, 641, 642, 643, 644, 645, 646, 647, 648, 649,\n",
       "        650, 651, 652]),\n",
       " <BarContainer object of 652 artists>)"
      ]
     },
<<<<<<< Updated upstream:modal_cuda_lumin_plus150.ipynb
     "execution_count": 14,
=======
     "execution_count": 34,
>>>>>>> Stashed changes:modal_cuda_lumin-Copy1.ipynb
     "metadata": {},
     "output_type": "execute_result"
    },
    {
     "data": {
<<<<<<< Updated upstream:modal_cuda_lumin_plus150.ipynb
      "image/png": "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\n",
=======
      "image/png": "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\n",
>>>>>>> Stashed changes:modal_cuda_lumin-Copy1.ipynb
      "text/plain": [
       "<Figure size 432x288 with 1 Axes>"
      ]
     },
     "metadata": {
      "needs_background": "light"
     },
     "output_type": "display_data"
    }
   ],
   "source": [
    "plt.hist(nouv_list_labels, bins=range(label_max +2))"
   ]
  },
  {
   "cell_type": "code",
<<<<<<< Updated upstream:modal_cuda_lumin_plus150.ipynb
   "execution_count": 15,
=======
   "execution_count": 35,
>>>>>>> Stashed changes:modal_cuda_lumin-Copy1.ipynb
   "metadata": {},
   "outputs": [
    {
     "data": {
      "text/plain": [
       "652"
      ]
     },
<<<<<<< Updated upstream:modal_cuda_lumin_plus150.ipynb
     "execution_count": 15,
=======
     "execution_count": 35,
>>>>>>> Stashed changes:modal_cuda_lumin-Copy1.ipynb
     "metadata": {},
     "output_type": "execute_result"
    }
   ],
   "source": [
    "num_classes = label_max+1\n",
    "num_classes"
   ]
  },
  {
   "cell_type": "code",
<<<<<<< Updated upstream:modal_cuda_lumin_plus150.ipynb
   "execution_count": 16,
=======
   "execution_count": 36,
>>>>>>> Stashed changes:modal_cuda_lumin-Copy1.ipynb
   "metadata": {},
   "outputs": [],
   "source": [
    "def shuffle_in_unison(list_images, list_labels):\n",
    "    assert len(list_images) == len(list_labels)\n",
    "    shuffled_list_images = np.empty(list_images.shape, dtype=list_images.dtype)\n",
    "    shuffled_list_labels = np.empty(list_labels.shape, dtype=list_labels.dtype)\n",
    "    permutation = np.random.permutation(len(list_images))\n",
    "    for old_index, new_index in enumerate(permutation):\n",
    "        shuffled_list_images[new_index] = list_images[old_index]\n",
    "        shuffled_list_labels[new_index] = list_labels[old_index]\n",
    "    return shuffled_list_images, shuffled_list_labels"
   ]
  },
  {
   "cell_type": "code",
<<<<<<< Updated upstream:modal_cuda_lumin_plus150.ipynb
   "execution_count": 17,
=======
   "execution_count": 37,
>>>>>>> Stashed changes:modal_cuda_lumin-Copy1.ipynb
   "metadata": {
    "scrolled": true
   },
   "outputs": [
    {
     "data": {
      "text/plain": [
       "9"
      ]
     },
<<<<<<< Updated upstream:modal_cuda_lumin_plus150.ipynb
     "execution_count": 17,
=======
     "execution_count": 37,
>>>>>>> Stashed changes:modal_cuda_lumin-Copy1.ipynb
     "metadata": {},
     "output_type": "execute_result"
    }
   ],
   "source": [
    "len(list_images[3])"
   ]
  },
  {
   "cell_type": "code",
<<<<<<< Updated upstream:modal_cuda_lumin_plus150.ipynb
   "execution_count": 18,
=======
   "execution_count": 38,
>>>>>>> Stashed changes:modal_cuda_lumin-Copy1.ipynb
   "metadata": {},
   "outputs": [],
   "source": [
    "def list_to_torch(list_images, list_labels) :\n",
    "    n = len(list_images)\n",
    "    \n",
    "    torch_images=np.array([np.asarray(data) for data in list_images])\n",
    "    torch_labels=np.array(list_labels)\n",
    "    \n",
    "    torch_images, torch_labels=shuffle_in_unison(torch_images, torch_labels)\n",
    "    \n",
    "    torch_images = torch.from_numpy(torch_images).cuda()\n",
    "    torch_labels = torch.from_numpy(torch_labels).cuda()\n",
    "    \n",
    "    train_set = torch.utils.data.TensorDataset(torch_images[:int(0.8*n)],torch_labels[:int(0.8*n)])\n",
    "    test_set = torch.utils.data.TensorDataset(torch_images[int(0.8*n):],torch_labels[int(0.8*n):])\n",
    "    \n",
    "    return train_set, test_set"
   ]
  },
  {
   "cell_type": "code",
<<<<<<< Updated upstream:modal_cuda_lumin_plus150.ipynb
   "execution_count": 19,
=======
   "execution_count": null,
>>>>>>> Stashed changes:modal_cuda_lumin-Copy1.ipynb
   "metadata": {},
   "outputs": [],
   "source": [
    "train_set, test_set = list_to_torch(list_images, nouv_list_labels)"
   ]
  },
  {
   "cell_type": "code",
<<<<<<< Updated upstream:modal_cuda_lumin_plus150.ipynb
   "execution_count": 20,
=======
   "execution_count": null,
>>>>>>> Stashed changes:modal_cuda_lumin-Copy1.ipynb
   "metadata": {},
   "outputs": [],
   "source": [
    "print(train_set[0][0].shape)"
   ]
  },
  {
   "cell_type": "code",
<<<<<<< Updated upstream:modal_cuda_lumin_plus150.ipynb
   "execution_count": 21,
=======
   "execution_count": null,
>>>>>>> Stashed changes:modal_cuda_lumin-Copy1.ipynb
   "metadata": {},
   "outputs": [],
   "source": [
    "def train_epoch(net, train_set, opt, criterion, batch_size):\n",
    "    net.train()\n",
    "    trainloader = torch.utils.data.DataLoader(train_set, batch_size)\n",
    "    for x_batch, y_batch in trainloader :\n",
    "        opt.zero_grad()\n",
    "        # Forward\n",
    "        y_pred = net(x_batch.float())\n",
    "        y_batch = y_batch.long()\n",
    "        # Compute diff\n",
    "        loss = criterion(y_pred, y_batch)\n",
    "        # Compute gradients\n",
    "        loss.backward()\n",
    "        # update weights\n",
    "        opt.step()\n",
    "\n",
    "def accuracy(net, dataset):\n",
    "    net.eval()\n",
    "    correct = 0\n",
    "    trainloader = torch.utils.data.DataLoader(dataset, batch_size=1)\n",
    "    for x_batch, y_batch in trainloader :\n",
    "        y_pred = net(x_batch.float())\n",
    "        y_pred = torch.argmax(y_pred).int()\n",
    "        if int(y_pred)==int(y_batch[0]) :\n",
    "            correct+=1\n",
    "    return correct/len(dataset)"
   ]
  },
  {
   "cell_type": "code",
<<<<<<< Updated upstream:modal_cuda_lumin_plus150.ipynb
   "execution_count": 23,
=======
   "execution_count": null,
>>>>>>> Stashed changes:modal_cuda_lumin-Copy1.ipynb
   "metadata": {},
   "outputs": [],
   "source": [
    "class Net(nn.Module):\n",
    "    def __init__(self,size,deep_in, num_classes, deep_intern=36):\n",
    "        super(Net, self).__init__()\n",
    "        self.conv1 = nn.Conv2d(deep_in,18,5,1,2)\n",
    "        self.conv2 = nn.Conv2d(18,deep_intern,3,1,1)\n",
    "        self.fc = nn.Linear(size*size*deep_intern//16,num_classes)\n",
    "        self.size = size\n",
    "        self.num_classes=num_classes\n",
    "        self.deep_intern = deep_intern\n",
    "\n",
    "    def forward(self, x):\n",
    "        x = nn.MaxPool2d(2,None,0)(F.tanh(self.conv1(x)))\n",
    "        x = nn.MaxPool2d(2,None,0)(F.tanh(self.conv2(x)))\n",
    "        x = x.view(-1,self.size*self.size*self.deep_intern//16)\n",
    "        x = self.fc(x)\n",
    "        return x"
   ]
  },
  {
   "cell_type": "code",
<<<<<<< Updated upstream:modal_cuda_lumin_plus150.ipynb
   "execution_count": 24,
=======
   "execution_count": null,
>>>>>>> Stashed changes:modal_cuda_lumin-Copy1.ipynb
   "metadata": {},
   "outputs": [],
   "source": [
    "def xavier(tensor) :\n",
    "  with torch.no_grad():\n",
    "    tensor=torch.tensor(np.random.randn(tensor.shape[0], tensor.shape[1])/np.sqrt(tensor.shape[0]))"
   ]
  },
  {
   "cell_type": "code",
<<<<<<< Updated upstream:modal_cuda_lumin_plus150.ipynb
   "execution_count": 25,
=======
   "execution_count": null,
>>>>>>> Stashed changes:modal_cuda_lumin-Copy1.ipynb
   "metadata": {},
   "outputs": [],
   "source": [
    "def init_weights_xavier(m):\n",
    "    if type(m) == nn.Linear:\n",
    "      xavier(m.weight)"
   ]
  },
  {
   "cell_type": "code",
   "execution_count": 26,
   "metadata": {
    "scrolled": true
   },
   "outputs": [
    {
     "name": "stderr",
     "output_type": "stream",
     "text": [
      "C:\\Users\\stani\\anaconda3\\envs\\modal\\lib\\site-packages\\ipykernel_launcher.py:16: TqdmDeprecationWarning: Please use `tqdm.notebook.trange` instead of `tqdm.tnrange`\n",
      "  app.launch_new_instance()\n"
     ]
    },
    {
     "data": {
      "application/vnd.jupyter.widget-view+json": {
       "model_id": "febb0962b5ad4539b14be38e15bbc702",
       "version_major": 2,
       "version_minor": 0
      },
      "text/plain": [
       "HBox(children=(HTML(value=''), FloatProgress(value=0.0, max=10.0), HTML(value='')))"
      ]
     },
     "metadata": {},
     "output_type": "display_data"
    },
    {
     "name": "stderr",
     "output_type": "stream",
     "text": [
      "C:\\Users\\stani\\anaconda3\\envs\\modal\\lib\\site-packages\\torch\\nn\\functional.py:1628: UserWarning: nn.functional.tanh is deprecated. Use torch.tanh instead.\n",
      "  warnings.warn(\"nn.functional.tanh is deprecated. Use torch.tanh instead.\")\n"
     ]
    },
    {
     "name": "stdout",
     "output_type": "stream",
     "text": [
      "\n"
     ]
    },
    {
     "data": {
      "image/png": "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\n",
      "text/plain": [
       "<Figure size 432x288 with 1 Axes>"
      ]
     },
     "metadata": {
      "needs_background": "light"
     },
     "output_type": "display_data"
    },
    {
     "name": "stdout",
     "output_type": "stream",
     "text": [
      "accuracy :\n"
     ]
    },
    {
     "data": {
      "text/plain": [
       "0.001398456518361216"
      ]
     },
     "execution_count": 26,
     "metadata": {},
     "output_type": "execute_result"
    }
   ],
   "source": [
    "epochs = 10\n",
    "criterion = nn.CrossEntropyLoss()\n",
    "\n",
    "net = Net(size, deep, num_classes).cuda()\n",
    "\n",
    "net.apply(init_weights_xavier)\n",
    "\n",
    "\n",
    "opt = torch.optim.Adam(net.parameters(),lr=1e-3,betas=(0.9, 0.999),eps=1e-08)\n",
    "\n",
    "compteur = 0\n",
    "\n",
    "preci_train = []\n",
    "preci_test = []\n",
    "\n",
    "for i in tnrange(epochs) :\n",
    "    train_epoch(net, train_set, opt, criterion, batch_size=2)\n",
    "    preci_train.append(accuracy(net, train_set))\n",
    "    preci_test.append(accuracy(net, test_set))\n",
    "\n",
    "plt.plot(range(len(preci_train)), preci_train, label = \"train\")\n",
    "plt.plot(range(len(preci_test)), preci_test, label = \"test\")\n",
    "plt.legend()\n",
    "plt.show()\n",
    "\n",
    "print(\"accuracy :\") \n",
    "accuracy(net, test_set)"
   ]
  },
  {
   "cell_type": "code",
   "execution_count": 27,
   "metadata": {},
   "outputs": [
    {
     "name": "stdout",
     "output_type": "stream",
     "text": [
      "77228\n"
     ]
    }
   ],
   "source": [
    "print(len(train_set))"
   ]
  },
  {
   "cell_type": "code",
   "execution_count": 28,
   "metadata": {},
   "outputs": [
    {
     "name": "stdout",
     "output_type": "stream",
     "text": [
      "19307\n"
     ]
    }
   ],
   "source": [
    "print(len(test_set))"
   ]
  },
  {
   "cell_type": "code",
   "execution_count": 22,
   "metadata": {},
   "outputs": [],
   "source": [
    "class Inception(nn.Module):\n",
    "    def __init__(self, in_planes, kernel_1_x, kernel_3_in, kernel_3_x, kernel_5_in, kernel_5_x, pool_planes):\n",
    "        super(Inception, self).__init__()\n",
    "\n",
    "        #first scale :\n",
    "        self.first_scale = nn.Conv2d(in_planes, kernel_1_x, kernel_size=1, padding=0)\n",
    "\n",
    "        #second scale :\n",
    "        second_scale_1 = nn.Conv2d(in_planes, kernel_3_in, kernel_size=1, padding=0)\n",
    "        second_scale_2 = nn.Conv2d(kernel_3_in, kernel_3_x, kernel_size=3, padding=1)\n",
    "\n",
    "        self.second_scale = nn.Sequential(second_scale_1,second_scale_2)\n",
    "\n",
    "        #third scale :\n",
    "        third_scale_1 = nn.Conv2d(in_planes, kernel_5_in, kernel_size=1, padding=0)\n",
    "        third_scale_2 = nn.Conv2d(kernel_5_in, kernel_5_x, kernel_size=5, padding=2)\n",
    "\n",
    "        self.third_scale = nn.Sequential(third_scale_1,third_scale_2)\n",
    "\n",
    "\n",
    "        #forth scale :\n",
    "        forth_scale_1 = nn.MaxPool2d(3,1, padding=1)\n",
    "        forth_scale_2 = nn.Conv2d(in_planes, pool_planes, kernel_size=1, padding=0)   \n",
    "        \n",
    "        self.forth_scale = nn.Sequential(forth_scale_1,forth_scale_2)\n",
    "\n",
    "\n",
    "    def forward(self, x):\n",
    "      \n",
    "      x1 = self.first_scale(x)\n",
    "      x2 = self.second_scale(x)\n",
    "      x3 = self.third_scale(x)\n",
    "      x4 = self.forth_scale(x)\n",
    "        \n",
    "      res = torch.cat([x1,x2,x3,x4],1)\n",
    "      return res\n",
    "\n",
    "\n",
    "class GoogLeNet(nn.Module):\n",
    "    def __init__(self, input_dim=9):\n",
    "        super(GoogLeNet, self).__init__()\n",
    "        self.pre_layers = nn.Sequential(\n",
    "            nn.Conv2d(input_dim, 192, kernel_size=3, padding=1),\n",
    "            nn.BatchNorm2d(192),\n",
    "            nn.ReLU(True),\n",
    "        )\n",
    "        \n",
    "        self.layer1 = Inception(192,  64,  96, 128, 16, 32, 32)\n",
    "        \n",
    "        self.layer2 = Inception(256, 128, 128, 192, 32, 96, 64)\n",
    "        \n",
    "        self.layer3 = Inception(480, 192,  96, 208, 16,  48,  64)\n",
    "        \n",
    "        self.max_pool = nn.MaxPool2d(3, stride=2, padding=1)\n",
    "        \n",
    "        self.avgpool = nn.AvgPool2d(8, stride=1)\n",
    "        self.linear = nn.Linear(512, num_classes)\n",
    "        \n",
    "\n",
    "    def forward(self, x):\n",
    "        \n",
    "        x = self.pre_layers(x)\n",
    "        x = self.layer1(x)\n",
    "        x = self.max_pool(x)\n",
    "        x = self.layer2(x)\n",
    "        x = self.max_pool(x)\n",
    "        x = self.layer3(x)\n",
    "        x = self.max_pool(x)\n",
    "        x = self.avgpool(x)\n",
    "        x = x.view(x.size(0), -1)\n",
    "        x = self.linear(x)\n",
    "        return x\n"
   ]
  },
  {
   "cell_type": "code",
   "execution_count": 23,
   "metadata": {},
   "outputs": [
    {
     "name": "stderr",
     "output_type": "stream",
     "text": [
      "C:\\Users\\stani\\anaconda3\\envs\\modal\\lib\\site-packages\\ipykernel_launcher.py:13: TqdmDeprecationWarning: Please use `tqdm.notebook.trange` instead of `tqdm.tnrange`\n",
      "  del sys.path[0]\n"
     ]
    },
    {
     "data": {
      "application/vnd.jupyter.widget-view+json": {
       "model_id": "335a849932e74f5988466765cc50627d",
       "version_major": 2,
       "version_minor": 0
      },
      "text/plain": [
       "HBox(children=(HTML(value=''), FloatProgress(value=0.0, max=20.0), HTML(value='')))"
      ]
     },
     "metadata": {},
     "output_type": "display_data"
    },
    {
     "name": "stdout",
     "output_type": "stream",
     "text": [
      "\n"
     ]
    },
    {
     "data": {
      "image/png": "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\n",
      "text/plain": [
       "<Figure size 432x288 with 1 Axes>"
      ]
     },
     "metadata": {
      "needs_background": "light"
     },
     "output_type": "display_data"
    },
    {
     "name": "stdout",
     "output_type": "stream",
     "text": [
      "accuracy :\n"
     ]
    },
    {
     "data": {
      "text/plain": [
       "0.4001139483089035"
      ]
     },
     "execution_count": 23,
     "metadata": {},
     "output_type": "execute_result"
    }
   ],
   "source": [
    "epochs = 20\n",
    "criterion = nn.CrossEntropyLoss()\n",
    "\n",
    "net =  GoogLeNet().cuda()\n",
    "\n",
    "opt = torch.optim.Adam(net.parameters(),lr=1e-3,betas=(0.9, 0.999),eps=1e-08)\n",
    "\n",
    "compteur = 0\n",
    "\n",
    "preci_train = []\n",
    "preci_test = []\n",
    "\n",
    "for i in tnrange(epochs) :\n",
    "    train_epoch(net, train_set, opt, criterion, batch_size=10)\n",
    "    preci_train.append(accuracy(net, train_set))\n",
    "    preci_test.append(accuracy(net, test_set))\n",
    "\n",
    "plt.plot(range(len(preci_train)), preci_train, label = \"train\")\n",
    "plt.plot(range(len(preci_test)), preci_test, label = \"test\")\n",
    "plt.legend()\n",
    "plt.show()\n",
    "\n",
    "print(\"accuracy :\") \n",
    "accuracy(net, test_set)"
   ]
  },
  {
   "cell_type": "code",
   "execution_count": 35,
   "metadata": {
    "scrolled": true
   },
   "outputs": [
    {
     "name": "stderr",
     "output_type": "stream",
     "text": [
      "C:\\Users\\stani\\anaconda3\\envs\\modal\\lib\\site-packages\\ipykernel_launcher.py:1: TqdmDeprecationWarning: Please use `tqdm.notebook.trange` instead of `tqdm.tnrange`\n",
      "  \"\"\"Entry point for launching an IPython kernel.\n"
     ]
    },
    {
     "data": {
      "application/vnd.jupyter.widget-view+json": {
       "model_id": "ac9c032355664f839e17d3b36e18a7f2",
       "version_major": 2,
       "version_minor": 0
      },
      "text/plain": [
       "HBox(children=(HTML(value=''), FloatProgress(value=0.0, max=20.0), HTML(value='')))"
      ]
     },
     "metadata": {},
     "output_type": "display_data"
    },
    {
     "name": "stdout",
     "output_type": "stream",
     "text": [
      "\n"
     ]
    },
    {
     "ename": "KeyboardInterrupt",
     "evalue": "",
     "output_type": "error",
     "traceback": [
      "\u001b[1;31m---------------------------------------------------------------------------\u001b[0m",
      "\u001b[1;31mKeyboardInterrupt\u001b[0m                         Traceback (most recent call last)",
      "\u001b[1;32m<ipython-input-35-127315788cc2>\u001b[0m in \u001b[0;36m<module>\u001b[1;34m\u001b[0m\n\u001b[0;32m      1\u001b[0m \u001b[1;32mfor\u001b[0m \u001b[0mi\u001b[0m \u001b[1;32min\u001b[0m \u001b[0mtnrange\u001b[0m\u001b[1;33m(\u001b[0m\u001b[1;36m20\u001b[0m\u001b[1;33m)\u001b[0m \u001b[1;33m:\u001b[0m\u001b[1;33m\u001b[0m\u001b[1;33m\u001b[0m\u001b[0m\n\u001b[0;32m      2\u001b[0m     \u001b[0mtrain_epoch\u001b[0m\u001b[1;33m(\u001b[0m\u001b[0mnet\u001b[0m\u001b[1;33m,\u001b[0m \u001b[0mtrain_set\u001b[0m\u001b[1;33m,\u001b[0m \u001b[0mopt\u001b[0m\u001b[1;33m,\u001b[0m \u001b[0mcriterion\u001b[0m\u001b[1;33m,\u001b[0m \u001b[0mbatch_size\u001b[0m\u001b[1;33m=\u001b[0m\u001b[1;36m10\u001b[0m\u001b[1;33m)\u001b[0m\u001b[1;33m\u001b[0m\u001b[1;33m\u001b[0m\u001b[0m\n\u001b[1;32m----> 3\u001b[1;33m     \u001b[0mpreci_train\u001b[0m\u001b[1;33m.\u001b[0m\u001b[0mappend\u001b[0m\u001b[1;33m(\u001b[0m\u001b[0maccuracy\u001b[0m\u001b[1;33m(\u001b[0m\u001b[0mnet\u001b[0m\u001b[1;33m,\u001b[0m \u001b[0mtrain_set\u001b[0m\u001b[1;33m)\u001b[0m\u001b[1;33m)\u001b[0m\u001b[1;33m\u001b[0m\u001b[1;33m\u001b[0m\u001b[0m\n\u001b[0m\u001b[0;32m      4\u001b[0m     \u001b[0mpreci_test\u001b[0m\u001b[1;33m.\u001b[0m\u001b[0mappend\u001b[0m\u001b[1;33m(\u001b[0m\u001b[0maccuracy\u001b[0m\u001b[1;33m(\u001b[0m\u001b[0mnet\u001b[0m\u001b[1;33m,\u001b[0m \u001b[0mtest_set\u001b[0m\u001b[1;33m)\u001b[0m\u001b[1;33m)\u001b[0m\u001b[1;33m\u001b[0m\u001b[1;33m\u001b[0m\u001b[0m\n\u001b[0;32m      5\u001b[0m \u001b[1;33m\u001b[0m\u001b[0m\n",
      "\u001b[1;32m<ipython-input-19-37edc01ebd24>\u001b[0m in \u001b[0;36maccuracy\u001b[1;34m(net, dataset)\u001b[0m\n\u001b[0;32m     19\u001b[0m     \u001b[0mtrainloader\u001b[0m \u001b[1;33m=\u001b[0m \u001b[0mtorch\u001b[0m\u001b[1;33m.\u001b[0m\u001b[0mutils\u001b[0m\u001b[1;33m.\u001b[0m\u001b[0mdata\u001b[0m\u001b[1;33m.\u001b[0m\u001b[0mDataLoader\u001b[0m\u001b[1;33m(\u001b[0m\u001b[0mdataset\u001b[0m\u001b[1;33m,\u001b[0m \u001b[0mbatch_size\u001b[0m\u001b[1;33m=\u001b[0m\u001b[1;36m1\u001b[0m\u001b[1;33m)\u001b[0m\u001b[1;33m\u001b[0m\u001b[1;33m\u001b[0m\u001b[0m\n\u001b[0;32m     20\u001b[0m     \u001b[1;32mfor\u001b[0m \u001b[0mx_batch\u001b[0m\u001b[1;33m,\u001b[0m \u001b[0my_batch\u001b[0m \u001b[1;32min\u001b[0m \u001b[0mtrainloader\u001b[0m \u001b[1;33m:\u001b[0m\u001b[1;33m\u001b[0m\u001b[1;33m\u001b[0m\u001b[0m\n\u001b[1;32m---> 21\u001b[1;33m         \u001b[0my_pred\u001b[0m \u001b[1;33m=\u001b[0m \u001b[0mnet\u001b[0m\u001b[1;33m(\u001b[0m\u001b[0mx_batch\u001b[0m\u001b[1;33m.\u001b[0m\u001b[0mfloat\u001b[0m\u001b[1;33m(\u001b[0m\u001b[1;33m)\u001b[0m\u001b[1;33m)\u001b[0m\u001b[1;33m\u001b[0m\u001b[1;33m\u001b[0m\u001b[0m\n\u001b[0m\u001b[0;32m     22\u001b[0m         \u001b[0my_pred\u001b[0m \u001b[1;33m=\u001b[0m \u001b[0mtorch\u001b[0m\u001b[1;33m.\u001b[0m\u001b[0margmax\u001b[0m\u001b[1;33m(\u001b[0m\u001b[0my_pred\u001b[0m\u001b[1;33m)\u001b[0m\u001b[1;33m.\u001b[0m\u001b[0mint\u001b[0m\u001b[1;33m(\u001b[0m\u001b[1;33m)\u001b[0m\u001b[1;33m\u001b[0m\u001b[1;33m\u001b[0m\u001b[0m\n\u001b[0;32m     23\u001b[0m         \u001b[1;32mif\u001b[0m \u001b[0mint\u001b[0m\u001b[1;33m(\u001b[0m\u001b[0my_pred\u001b[0m\u001b[1;33m)\u001b[0m\u001b[1;33m==\u001b[0m\u001b[0mint\u001b[0m\u001b[1;33m(\u001b[0m\u001b[0my_batch\u001b[0m\u001b[1;33m[\u001b[0m\u001b[1;36m0\u001b[0m\u001b[1;33m]\u001b[0m\u001b[1;33m)\u001b[0m \u001b[1;33m:\u001b[0m\u001b[1;33m\u001b[0m\u001b[1;33m\u001b[0m\u001b[0m\n",
      "\u001b[1;32m~\\anaconda3\\envs\\modal\\lib\\site-packages\\torch\\nn\\modules\\module.py\u001b[0m in \u001b[0;36m_call_impl\u001b[1;34m(self, *input, **kwargs)\u001b[0m\n\u001b[0;32m    725\u001b[0m             \u001b[0mresult\u001b[0m \u001b[1;33m=\u001b[0m \u001b[0mself\u001b[0m\u001b[1;33m.\u001b[0m\u001b[0m_slow_forward\u001b[0m\u001b[1;33m(\u001b[0m\u001b[1;33m*\u001b[0m\u001b[0minput\u001b[0m\u001b[1;33m,\u001b[0m \u001b[1;33m**\u001b[0m\u001b[0mkwargs\u001b[0m\u001b[1;33m)\u001b[0m\u001b[1;33m\u001b[0m\u001b[1;33m\u001b[0m\u001b[0m\n\u001b[0;32m    726\u001b[0m         \u001b[1;32melse\u001b[0m\u001b[1;33m:\u001b[0m\u001b[1;33m\u001b[0m\u001b[1;33m\u001b[0m\u001b[0m\n\u001b[1;32m--> 727\u001b[1;33m             \u001b[0mresult\u001b[0m \u001b[1;33m=\u001b[0m \u001b[0mself\u001b[0m\u001b[1;33m.\u001b[0m\u001b[0mforward\u001b[0m\u001b[1;33m(\u001b[0m\u001b[1;33m*\u001b[0m\u001b[0minput\u001b[0m\u001b[1;33m,\u001b[0m \u001b[1;33m**\u001b[0m\u001b[0mkwargs\u001b[0m\u001b[1;33m)\u001b[0m\u001b[1;33m\u001b[0m\u001b[1;33m\u001b[0m\u001b[0m\n\u001b[0m\u001b[0;32m    728\u001b[0m         for hook in itertools.chain(\n\u001b[0;32m    729\u001b[0m                 \u001b[0m_global_forward_hooks\u001b[0m\u001b[1;33m.\u001b[0m\u001b[0mvalues\u001b[0m\u001b[1;33m(\u001b[0m\u001b[1;33m)\u001b[0m\u001b[1;33m,\u001b[0m\u001b[1;33m\u001b[0m\u001b[1;33m\u001b[0m\u001b[0m\n",
      "\u001b[1;32m<ipython-input-26-41434f3021a5>\u001b[0m in \u001b[0;36mforward\u001b[1;34m(self, x)\u001b[0m\n\u001b[0;32m     65\u001b[0m         \u001b[0mx\u001b[0m \u001b[1;33m=\u001b[0m \u001b[0mself\u001b[0m\u001b[1;33m.\u001b[0m\u001b[0mlayer2\u001b[0m\u001b[1;33m(\u001b[0m\u001b[0mx\u001b[0m\u001b[1;33m)\u001b[0m\u001b[1;33m\u001b[0m\u001b[1;33m\u001b[0m\u001b[0m\n\u001b[0;32m     66\u001b[0m         \u001b[0mx\u001b[0m \u001b[1;33m=\u001b[0m \u001b[0mself\u001b[0m\u001b[1;33m.\u001b[0m\u001b[0mmax_pool\u001b[0m\u001b[1;33m(\u001b[0m\u001b[0mx\u001b[0m\u001b[1;33m)\u001b[0m\u001b[1;33m\u001b[0m\u001b[1;33m\u001b[0m\u001b[0m\n\u001b[1;32m---> 67\u001b[1;33m         \u001b[0mx\u001b[0m \u001b[1;33m=\u001b[0m \u001b[0mself\u001b[0m\u001b[1;33m.\u001b[0m\u001b[0mlayer3\u001b[0m\u001b[1;33m(\u001b[0m\u001b[0mx\u001b[0m\u001b[1;33m)\u001b[0m\u001b[1;33m\u001b[0m\u001b[1;33m\u001b[0m\u001b[0m\n\u001b[0m\u001b[0;32m     68\u001b[0m         \u001b[0mx\u001b[0m \u001b[1;33m=\u001b[0m \u001b[0mself\u001b[0m\u001b[1;33m.\u001b[0m\u001b[0mmax_pool\u001b[0m\u001b[1;33m(\u001b[0m\u001b[0mx\u001b[0m\u001b[1;33m)\u001b[0m\u001b[1;33m\u001b[0m\u001b[1;33m\u001b[0m\u001b[0m\n\u001b[0;32m     69\u001b[0m         \u001b[0mx\u001b[0m \u001b[1;33m=\u001b[0m \u001b[0mself\u001b[0m\u001b[1;33m.\u001b[0m\u001b[0mavgpool\u001b[0m\u001b[1;33m(\u001b[0m\u001b[0mx\u001b[0m\u001b[1;33m)\u001b[0m\u001b[1;33m\u001b[0m\u001b[1;33m\u001b[0m\u001b[0m\n",
      "\u001b[1;32m~\\anaconda3\\envs\\modal\\lib\\site-packages\\torch\\nn\\modules\\module.py\u001b[0m in \u001b[0;36m_call_impl\u001b[1;34m(self, *input, **kwargs)\u001b[0m\n\u001b[0;32m    725\u001b[0m             \u001b[0mresult\u001b[0m \u001b[1;33m=\u001b[0m \u001b[0mself\u001b[0m\u001b[1;33m.\u001b[0m\u001b[0m_slow_forward\u001b[0m\u001b[1;33m(\u001b[0m\u001b[1;33m*\u001b[0m\u001b[0minput\u001b[0m\u001b[1;33m,\u001b[0m \u001b[1;33m**\u001b[0m\u001b[0mkwargs\u001b[0m\u001b[1;33m)\u001b[0m\u001b[1;33m\u001b[0m\u001b[1;33m\u001b[0m\u001b[0m\n\u001b[0;32m    726\u001b[0m         \u001b[1;32melse\u001b[0m\u001b[1;33m:\u001b[0m\u001b[1;33m\u001b[0m\u001b[1;33m\u001b[0m\u001b[0m\n\u001b[1;32m--> 727\u001b[1;33m             \u001b[0mresult\u001b[0m \u001b[1;33m=\u001b[0m \u001b[0mself\u001b[0m\u001b[1;33m.\u001b[0m\u001b[0mforward\u001b[0m\u001b[1;33m(\u001b[0m\u001b[1;33m*\u001b[0m\u001b[0minput\u001b[0m\u001b[1;33m,\u001b[0m \u001b[1;33m**\u001b[0m\u001b[0mkwargs\u001b[0m\u001b[1;33m)\u001b[0m\u001b[1;33m\u001b[0m\u001b[1;33m\u001b[0m\u001b[0m\n\u001b[0m\u001b[0;32m    728\u001b[0m         for hook in itertools.chain(\n\u001b[0;32m    729\u001b[0m                 \u001b[0m_global_forward_hooks\u001b[0m\u001b[1;33m.\u001b[0m\u001b[0mvalues\u001b[0m\u001b[1;33m(\u001b[0m\u001b[1;33m)\u001b[0m\u001b[1;33m,\u001b[0m\u001b[1;33m\u001b[0m\u001b[1;33m\u001b[0m\u001b[0m\n",
      "\u001b[1;32m<ipython-input-26-41434f3021a5>\u001b[0m in \u001b[0;36mforward\u001b[1;34m(self, x)\u001b[0m\n\u001b[0;32m     29\u001b[0m \u001b[1;33m\u001b[0m\u001b[0m\n\u001b[0;32m     30\u001b[0m       \u001b[0mx1\u001b[0m \u001b[1;33m=\u001b[0m \u001b[0mself\u001b[0m\u001b[1;33m.\u001b[0m\u001b[0mfirst_scale\u001b[0m\u001b[1;33m(\u001b[0m\u001b[0mx\u001b[0m\u001b[1;33m)\u001b[0m\u001b[1;33m\u001b[0m\u001b[1;33m\u001b[0m\u001b[0m\n\u001b[1;32m---> 31\u001b[1;33m       \u001b[0mx2\u001b[0m \u001b[1;33m=\u001b[0m \u001b[0mself\u001b[0m\u001b[1;33m.\u001b[0m\u001b[0msecond_scale\u001b[0m\u001b[1;33m(\u001b[0m\u001b[0mx\u001b[0m\u001b[1;33m)\u001b[0m\u001b[1;33m\u001b[0m\u001b[1;33m\u001b[0m\u001b[0m\n\u001b[0m\u001b[0;32m     32\u001b[0m       \u001b[0mx3\u001b[0m \u001b[1;33m=\u001b[0m \u001b[0mself\u001b[0m\u001b[1;33m.\u001b[0m\u001b[0mthird_scale\u001b[0m\u001b[1;33m(\u001b[0m\u001b[0mx\u001b[0m\u001b[1;33m)\u001b[0m\u001b[1;33m\u001b[0m\u001b[1;33m\u001b[0m\u001b[0m\n\u001b[0;32m     33\u001b[0m       \u001b[0mx4\u001b[0m \u001b[1;33m=\u001b[0m \u001b[0mself\u001b[0m\u001b[1;33m.\u001b[0m\u001b[0mforth_scale\u001b[0m\u001b[1;33m(\u001b[0m\u001b[0mx\u001b[0m\u001b[1;33m)\u001b[0m\u001b[1;33m\u001b[0m\u001b[1;33m\u001b[0m\u001b[0m\n",
      "\u001b[1;32m~\\anaconda3\\envs\\modal\\lib\\site-packages\\torch\\nn\\modules\\module.py\u001b[0m in \u001b[0;36m_call_impl\u001b[1;34m(self, *input, **kwargs)\u001b[0m\n\u001b[0;32m    725\u001b[0m             \u001b[0mresult\u001b[0m \u001b[1;33m=\u001b[0m \u001b[0mself\u001b[0m\u001b[1;33m.\u001b[0m\u001b[0m_slow_forward\u001b[0m\u001b[1;33m(\u001b[0m\u001b[1;33m*\u001b[0m\u001b[0minput\u001b[0m\u001b[1;33m,\u001b[0m \u001b[1;33m**\u001b[0m\u001b[0mkwargs\u001b[0m\u001b[1;33m)\u001b[0m\u001b[1;33m\u001b[0m\u001b[1;33m\u001b[0m\u001b[0m\n\u001b[0;32m    726\u001b[0m         \u001b[1;32melse\u001b[0m\u001b[1;33m:\u001b[0m\u001b[1;33m\u001b[0m\u001b[1;33m\u001b[0m\u001b[0m\n\u001b[1;32m--> 727\u001b[1;33m             \u001b[0mresult\u001b[0m \u001b[1;33m=\u001b[0m \u001b[0mself\u001b[0m\u001b[1;33m.\u001b[0m\u001b[0mforward\u001b[0m\u001b[1;33m(\u001b[0m\u001b[1;33m*\u001b[0m\u001b[0minput\u001b[0m\u001b[1;33m,\u001b[0m \u001b[1;33m**\u001b[0m\u001b[0mkwargs\u001b[0m\u001b[1;33m)\u001b[0m\u001b[1;33m\u001b[0m\u001b[1;33m\u001b[0m\u001b[0m\n\u001b[0m\u001b[0;32m    728\u001b[0m         for hook in itertools.chain(\n\u001b[0;32m    729\u001b[0m                 \u001b[0m_global_forward_hooks\u001b[0m\u001b[1;33m.\u001b[0m\u001b[0mvalues\u001b[0m\u001b[1;33m(\u001b[0m\u001b[1;33m)\u001b[0m\u001b[1;33m,\u001b[0m\u001b[1;33m\u001b[0m\u001b[1;33m\u001b[0m\u001b[0m\n",
      "\u001b[1;32m~\\anaconda3\\envs\\modal\\lib\\site-packages\\torch\\nn\\modules\\container.py\u001b[0m in \u001b[0;36mforward\u001b[1;34m(self, input)\u001b[0m\n\u001b[0;32m    115\u001b[0m     \u001b[1;32mdef\u001b[0m \u001b[0mforward\u001b[0m\u001b[1;33m(\u001b[0m\u001b[0mself\u001b[0m\u001b[1;33m,\u001b[0m \u001b[0minput\u001b[0m\u001b[1;33m)\u001b[0m\u001b[1;33m:\u001b[0m\u001b[1;33m\u001b[0m\u001b[1;33m\u001b[0m\u001b[0m\n\u001b[0;32m    116\u001b[0m         \u001b[1;32mfor\u001b[0m \u001b[0mmodule\u001b[0m \u001b[1;32min\u001b[0m \u001b[0mself\u001b[0m\u001b[1;33m:\u001b[0m\u001b[1;33m\u001b[0m\u001b[1;33m\u001b[0m\u001b[0m\n\u001b[1;32m--> 117\u001b[1;33m             \u001b[0minput\u001b[0m \u001b[1;33m=\u001b[0m \u001b[0mmodule\u001b[0m\u001b[1;33m(\u001b[0m\u001b[0minput\u001b[0m\u001b[1;33m)\u001b[0m\u001b[1;33m\u001b[0m\u001b[1;33m\u001b[0m\u001b[0m\n\u001b[0m\u001b[0;32m    118\u001b[0m         \u001b[1;32mreturn\u001b[0m \u001b[0minput\u001b[0m\u001b[1;33m\u001b[0m\u001b[1;33m\u001b[0m\u001b[0m\n\u001b[0;32m    119\u001b[0m \u001b[1;33m\u001b[0m\u001b[0m\n",
      "\u001b[1;32m~\\anaconda3\\envs\\modal\\lib\\site-packages\\torch\\nn\\modules\\module.py\u001b[0m in \u001b[0;36m_call_impl\u001b[1;34m(self, *input, **kwargs)\u001b[0m\n\u001b[0;32m    725\u001b[0m             \u001b[0mresult\u001b[0m \u001b[1;33m=\u001b[0m \u001b[0mself\u001b[0m\u001b[1;33m.\u001b[0m\u001b[0m_slow_forward\u001b[0m\u001b[1;33m(\u001b[0m\u001b[1;33m*\u001b[0m\u001b[0minput\u001b[0m\u001b[1;33m,\u001b[0m \u001b[1;33m**\u001b[0m\u001b[0mkwargs\u001b[0m\u001b[1;33m)\u001b[0m\u001b[1;33m\u001b[0m\u001b[1;33m\u001b[0m\u001b[0m\n\u001b[0;32m    726\u001b[0m         \u001b[1;32melse\u001b[0m\u001b[1;33m:\u001b[0m\u001b[1;33m\u001b[0m\u001b[1;33m\u001b[0m\u001b[0m\n\u001b[1;32m--> 727\u001b[1;33m             \u001b[0mresult\u001b[0m \u001b[1;33m=\u001b[0m \u001b[0mself\u001b[0m\u001b[1;33m.\u001b[0m\u001b[0mforward\u001b[0m\u001b[1;33m(\u001b[0m\u001b[1;33m*\u001b[0m\u001b[0minput\u001b[0m\u001b[1;33m,\u001b[0m \u001b[1;33m**\u001b[0m\u001b[0mkwargs\u001b[0m\u001b[1;33m)\u001b[0m\u001b[1;33m\u001b[0m\u001b[1;33m\u001b[0m\u001b[0m\n\u001b[0m\u001b[0;32m    728\u001b[0m         for hook in itertools.chain(\n\u001b[0;32m    729\u001b[0m                 \u001b[0m_global_forward_hooks\u001b[0m\u001b[1;33m.\u001b[0m\u001b[0mvalues\u001b[0m\u001b[1;33m(\u001b[0m\u001b[1;33m)\u001b[0m\u001b[1;33m,\u001b[0m\u001b[1;33m\u001b[0m\u001b[1;33m\u001b[0m\u001b[0m\n",
      "\u001b[1;32m~\\anaconda3\\envs\\modal\\lib\\site-packages\\torch\\nn\\modules\\conv.py\u001b[0m in \u001b[0;36mforward\u001b[1;34m(self, input)\u001b[0m\n\u001b[0;32m    421\u001b[0m \u001b[1;33m\u001b[0m\u001b[0m\n\u001b[0;32m    422\u001b[0m     \u001b[1;32mdef\u001b[0m \u001b[0mforward\u001b[0m\u001b[1;33m(\u001b[0m\u001b[0mself\u001b[0m\u001b[1;33m,\u001b[0m \u001b[0minput\u001b[0m\u001b[1;33m:\u001b[0m \u001b[0mTensor\u001b[0m\u001b[1;33m)\u001b[0m \u001b[1;33m->\u001b[0m \u001b[0mTensor\u001b[0m\u001b[1;33m:\u001b[0m\u001b[1;33m\u001b[0m\u001b[1;33m\u001b[0m\u001b[0m\n\u001b[1;32m--> 423\u001b[1;33m         \u001b[1;32mreturn\u001b[0m \u001b[0mself\u001b[0m\u001b[1;33m.\u001b[0m\u001b[0m_conv_forward\u001b[0m\u001b[1;33m(\u001b[0m\u001b[0minput\u001b[0m\u001b[1;33m,\u001b[0m \u001b[0mself\u001b[0m\u001b[1;33m.\u001b[0m\u001b[0mweight\u001b[0m\u001b[1;33m)\u001b[0m\u001b[1;33m\u001b[0m\u001b[1;33m\u001b[0m\u001b[0m\n\u001b[0m\u001b[0;32m    424\u001b[0m \u001b[1;33m\u001b[0m\u001b[0m\n\u001b[0;32m    425\u001b[0m \u001b[1;32mclass\u001b[0m \u001b[0mConv3d\u001b[0m\u001b[1;33m(\u001b[0m\u001b[0m_ConvNd\u001b[0m\u001b[1;33m)\u001b[0m\u001b[1;33m:\u001b[0m\u001b[1;33m\u001b[0m\u001b[1;33m\u001b[0m\u001b[0m\n",
      "\u001b[1;32m~\\anaconda3\\envs\\modal\\lib\\site-packages\\torch\\nn\\modules\\conv.py\u001b[0m in \u001b[0;36m_conv_forward\u001b[1;34m(self, input, weight)\u001b[0m\n\u001b[0;32m    418\u001b[0m                             _pair(0), self.dilation, self.groups)\n\u001b[0;32m    419\u001b[0m         return F.conv2d(input, weight, self.bias, self.stride,\n\u001b[1;32m--> 420\u001b[1;33m                         self.padding, self.dilation, self.groups)\n\u001b[0m\u001b[0;32m    421\u001b[0m \u001b[1;33m\u001b[0m\u001b[0m\n\u001b[0;32m    422\u001b[0m     \u001b[1;32mdef\u001b[0m \u001b[0mforward\u001b[0m\u001b[1;33m(\u001b[0m\u001b[0mself\u001b[0m\u001b[1;33m,\u001b[0m \u001b[0minput\u001b[0m\u001b[1;33m:\u001b[0m \u001b[0mTensor\u001b[0m\u001b[1;33m)\u001b[0m \u001b[1;33m->\u001b[0m \u001b[0mTensor\u001b[0m\u001b[1;33m:\u001b[0m\u001b[1;33m\u001b[0m\u001b[1;33m\u001b[0m\u001b[0m\n",
      "\u001b[1;31mKeyboardInterrupt\u001b[0m: "
     ]
    }
   ],
   "source": [
    "for i in tnrange(5) :\n",
    "    train_epoch(net, train_set, opt, criterion, batch_size=10)\n",
    "    preci_train.append(accuracy(net, train_set))\n",
    "    preci_test.append(accuracy(net, test_set))\n",
    "\n",
    "plt.plot(range(len(preci_train)), preci_train, label = \"train\")\n",
    "plt.plot(range(len(preci_test)), preci_test, label = \"test\")\n",
    "plt.legend()\n",
    "plt.show()\n",
    "\n",
    "print(\"accuracy :\") \n",
    "accuracy(net, test_set)"
   ]
  },
  {
   "cell_type": "code",
   "execution_count": 33,
   "metadata": {},
   "outputs": [
    {
     "name": "stderr",
     "output_type": "stream",
     "text": [
      "C:\\Users\\stani\\anaconda3\\envs\\modal\\lib\\site-packages\\ipykernel_launcher.py:1: TqdmDeprecationWarning: Please use `tqdm.notebook.trange` instead of `tqdm.tnrange`\n",
      "  \"\"\"Entry point for launching an IPython kernel.\n"
     ]
    },
    {
     "data": {
      "application/vnd.jupyter.widget-view+json": {
       "model_id": "612dad09ac854ee68c6f962d2adda307",
       "version_major": 2,
       "version_minor": 0
      },
      "text/plain": [
       "HBox(children=(HTML(value=''), FloatProgress(value=0.0, max=5.0), HTML(value='')))"
      ]
     },
     "metadata": {},
     "output_type": "display_data"
    },
    {
     "name": "stdout",
     "output_type": "stream",
     "text": [
      "\n"
     ]
    },
    {
     "data": {
      "image/png": "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\n",
      "text/plain": [
       "<Figure size 432x288 with 1 Axes>"
      ]
     },
     "metadata": {
      "needs_background": "light"
     },
     "output_type": "display_data"
    },
    {
     "name": "stdout",
     "output_type": "stream",
     "text": [
      "accuracy :\n"
     ]
    },
    {
     "data": {
      "text/plain": [
       "0.026200873362445413"
      ]
     },
     "execution_count": 33,
     "metadata": {},
     "output_type": "execute_result"
    }
   ],
   "source": [
    "for i in tnrange(5) :\n",
    "    train_epoch(net, train_set, opt, criterion, batch_size=10)\n",
    "    preci_train.append(accuracy(net, train_set))\n",
    "    preci_test.append(accuracy(net, test_set))\n",
    "\n",
    "plt.plot(range(len(preci_train)), preci_train, label = \"train\")\n",
    "plt.plot(range(len(preci_test)), preci_test, label = \"test\")\n",
    "plt.legend()\n",
    "plt.show()\n",
    "\n",
    "print(\"accuracy :\") \n",
    "accuracy(net, test_set)"
   ]
  },
  {
   "cell_type": "code",
   "execution_count": null,
   "metadata": {},
   "outputs": [],
   "source": []
  }
 ],
 "metadata": {
  "kernelspec": {
   "display_name": "Python 3",
   "language": "python",
   "name": "python3"
  },
  "language_info": {
   "codemirror_mode": {
    "name": "ipython",
    "version": 3
   },
   "file_extension": ".py",
   "mimetype": "text/x-python",
   "name": "python",
   "nbconvert_exporter": "python",
   "pygments_lexer": "ipython3",
   "version": "3.7.9"
  }
 },
 "nbformat": 4,
 "nbformat_minor": 4
}
