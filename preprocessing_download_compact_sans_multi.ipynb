{
 "cells": [
  {
   "cell_type": "code",
   "execution_count": 1,
   "metadata": {},
   "outputs": [],
   "source": [
    "#!/usr/bin/python\n",
    "\n",
    "# Note to Kagglers: This script will not run directly in Kaggle kernels. You\n",
    "# need to download it and run it on your local machine.\n",
    "\n",
    "# Downloads images from the Google Landmarks dataset using multiple threads.\n",
    "# Images that already exist will not be downloaded again, so the script can\n",
    "# resume a partially completed download. All images will be saved in the JPG\n",
    "# format with 90% compression quality.\n",
    "\n",
    "import sys, os, multiprocessing, csv\n",
    "from PIL import Image\n",
    "from io import BytesIO\n",
    "from urllib.request import urlopen\n",
    "import tqdm\n",
    "from tqdm import tnrange\n",
    "from tqdm.contrib.concurrent import process_map\n",
    "\n",
    "from matplotlib import pyplot as plt\n",
    "\n",
    "\n",
    "\n",
    "\n",
    "def ParseData(data_file):\n",
    "  csvfile = open(data_file, 'r')\n",
    "  csvreader = csv.reader(csvfile)\n",
    "  dataset = [line for line in csvreader]\n",
    "  return dataset[1:]  # Chop off header\n",
    "\n",
    "\n",
    "def DownloadImage(data):\n",
    "  (key, url, label) = data\n",
    "\n",
    "  try:\n",
    "    response = urlopen(url)\n",
    "    image_data = response.read()\n",
    "    #print(\"read\")\n",
    "  except:\n",
    "    #print('Warning: Could not download image %s from %s' % (key, url))\n",
    "    return\n",
    "\n",
    "  try:\n",
    "    pil_image = Image.open(BytesIO(image_data))\n",
    "    #print(\"parsed\")\n",
    "    return pil_image\n",
    "  except:\n",
    "    #print('Warning: Failed to parse image %s' % key)\n",
    "    return\n"
   ]
  },
  {
   "cell_type": "code",
   "execution_count": 2,
   "metadata": {},
   "outputs": [],
   "source": [
    "def Create_labels (data_file):\n",
    "    dataset_url = ParseData(data_file)\n",
    "    dataset = []\n",
    "    for data in tqdm.tqdm(dataset_url[:len(dataset_url)], total=len(dataset_url)) :\n",
    "        (key, url, label) = data \n",
    "        if label != \"None\" :\n",
    "            dataset.append(int(label))\n",
    "    return dataset"
   ]
  },
  {
   "cell_type": "code",
   "execution_count": 3,
   "metadata": {
    "scrolled": true
   },
   "outputs": [
    {
     "name": "stderr",
     "output_type": "stream",
     "text": [
      "100%|███████████████████████████████████████████████████████████████████| 1225029/1225029 [00:00<00:00, 1735038.26it/s]\n"
     ]
    }
   ],
   "source": [
    "list_labels = Create_labels(\"train.csv\")"
   ]
  },
  {
   "cell_type": "code",
   "execution_count": 4,
   "metadata": {},
   "outputs": [
    {
     "data": {
      "text/plain": [
       "1225029"
      ]
     },
     "execution_count": 4,
     "metadata": {},
     "output_type": "execute_result"
    }
   ],
   "source": [
    "len(list_labels)"
   ]
  },
  {
   "cell_type": "code",
   "execution_count": 5,
   "metadata": {
    "scrolled": true
   },
   "outputs": [
    {
     "data": {
      "text/plain": [
       "14950"
      ]
     },
     "execution_count": 5,
     "metadata": {},
     "output_type": "execute_result"
    }
   ],
   "source": [
    "max(list_labels)"
   ]
  },
  {
   "cell_type": "code",
   "execution_count": 6,
   "metadata": {
    "scrolled": true
   },
   "outputs": [
    {
     "ename": "KeyboardInterrupt",
     "evalue": "",
     "output_type": "error",
     "traceback": [
      "\u001b[1;31m---------------------------------------------------------------------------\u001b[0m",
      "\u001b[1;31mKeyboardInterrupt\u001b[0m                         Traceback (most recent call last)",
      "\u001b[1;32m<ipython-input-6-2c8fe16312f7>\u001b[0m in \u001b[0;36m<module>\u001b[1;34m\u001b[0m\n\u001b[1;32m----> 1\u001b[1;33m \u001b[0mnum_labels\u001b[0m \u001b[1;33m=\u001b[0m \u001b[0mplt\u001b[0m\u001b[1;33m.\u001b[0m\u001b[0mhist\u001b[0m\u001b[1;33m(\u001b[0m\u001b[0mlist_labels\u001b[0m\u001b[1;33m,\u001b[0m \u001b[0mbins\u001b[0m\u001b[1;33m=\u001b[0m\u001b[0mrange\u001b[0m\u001b[1;33m(\u001b[0m\u001b[0mmax\u001b[0m\u001b[1;33m(\u001b[0m\u001b[0mlist_labels\u001b[0m\u001b[1;33m)\u001b[0m\u001b[1;33m+\u001b[0m\u001b[1;36m2\u001b[0m\u001b[1;33m)\u001b[0m\u001b[1;33m)\u001b[0m\u001b[1;33m\u001b[0m\u001b[1;33m\u001b[0m\u001b[0m\n\u001b[0m",
      "\u001b[1;32m~\\anaconda3\\envs\\modal\\lib\\site-packages\\matplotlib\\pyplot.py\u001b[0m in \u001b[0;36mhist\u001b[1;34m(x, bins, range, density, weights, cumulative, bottom, histtype, align, orientation, rwidth, log, color, label, stacked, data, **kwargs)\u001b[0m\n\u001b[0;32m   2688\u001b[0m         \u001b[0malign\u001b[0m\u001b[1;33m=\u001b[0m\u001b[0malign\u001b[0m\u001b[1;33m,\u001b[0m \u001b[0morientation\u001b[0m\u001b[1;33m=\u001b[0m\u001b[0morientation\u001b[0m\u001b[1;33m,\u001b[0m \u001b[0mrwidth\u001b[0m\u001b[1;33m=\u001b[0m\u001b[0mrwidth\u001b[0m\u001b[1;33m,\u001b[0m \u001b[0mlog\u001b[0m\u001b[1;33m=\u001b[0m\u001b[0mlog\u001b[0m\u001b[1;33m,\u001b[0m\u001b[1;33m\u001b[0m\u001b[1;33m\u001b[0m\u001b[0m\n\u001b[0;32m   2689\u001b[0m         \u001b[0mcolor\u001b[0m\u001b[1;33m=\u001b[0m\u001b[0mcolor\u001b[0m\u001b[1;33m,\u001b[0m \u001b[0mlabel\u001b[0m\u001b[1;33m=\u001b[0m\u001b[0mlabel\u001b[0m\u001b[1;33m,\u001b[0m \u001b[0mstacked\u001b[0m\u001b[1;33m=\u001b[0m\u001b[0mstacked\u001b[0m\u001b[1;33m,\u001b[0m\u001b[1;33m\u001b[0m\u001b[1;33m\u001b[0m\u001b[0m\n\u001b[1;32m-> 2690\u001b[1;33m         **({\"data\": data} if data is not None else {}), **kwargs)\n\u001b[0m\u001b[0;32m   2691\u001b[0m \u001b[1;33m\u001b[0m\u001b[0m\n\u001b[0;32m   2692\u001b[0m \u001b[1;33m\u001b[0m\u001b[0m\n",
      "\u001b[1;32m~\\anaconda3\\envs\\modal\\lib\\site-packages\\matplotlib\\__init__.py\u001b[0m in \u001b[0;36minner\u001b[1;34m(ax, data, *args, **kwargs)\u001b[0m\n\u001b[0;32m   1436\u001b[0m     \u001b[1;32mdef\u001b[0m \u001b[0minner\u001b[0m\u001b[1;33m(\u001b[0m\u001b[0max\u001b[0m\u001b[1;33m,\u001b[0m \u001b[1;33m*\u001b[0m\u001b[0margs\u001b[0m\u001b[1;33m,\u001b[0m \u001b[0mdata\u001b[0m\u001b[1;33m=\u001b[0m\u001b[1;32mNone\u001b[0m\u001b[1;33m,\u001b[0m \u001b[1;33m**\u001b[0m\u001b[0mkwargs\u001b[0m\u001b[1;33m)\u001b[0m\u001b[1;33m:\u001b[0m\u001b[1;33m\u001b[0m\u001b[1;33m\u001b[0m\u001b[0m\n\u001b[0;32m   1437\u001b[0m         \u001b[1;32mif\u001b[0m \u001b[0mdata\u001b[0m \u001b[1;32mis\u001b[0m \u001b[1;32mNone\u001b[0m\u001b[1;33m:\u001b[0m\u001b[1;33m\u001b[0m\u001b[1;33m\u001b[0m\u001b[0m\n\u001b[1;32m-> 1438\u001b[1;33m             \u001b[1;32mreturn\u001b[0m \u001b[0mfunc\u001b[0m\u001b[1;33m(\u001b[0m\u001b[0max\u001b[0m\u001b[1;33m,\u001b[0m \u001b[1;33m*\u001b[0m\u001b[0mmap\u001b[0m\u001b[1;33m(\u001b[0m\u001b[0msanitize_sequence\u001b[0m\u001b[1;33m,\u001b[0m \u001b[0margs\u001b[0m\u001b[1;33m)\u001b[0m\u001b[1;33m,\u001b[0m \u001b[1;33m**\u001b[0m\u001b[0mkwargs\u001b[0m\u001b[1;33m)\u001b[0m\u001b[1;33m\u001b[0m\u001b[1;33m\u001b[0m\u001b[0m\n\u001b[0m\u001b[0;32m   1439\u001b[0m \u001b[1;33m\u001b[0m\u001b[0m\n\u001b[0;32m   1440\u001b[0m         \u001b[0mbound\u001b[0m \u001b[1;33m=\u001b[0m \u001b[0mnew_sig\u001b[0m\u001b[1;33m.\u001b[0m\u001b[0mbind\u001b[0m\u001b[1;33m(\u001b[0m\u001b[0max\u001b[0m\u001b[1;33m,\u001b[0m \u001b[1;33m*\u001b[0m\u001b[0margs\u001b[0m\u001b[1;33m,\u001b[0m \u001b[1;33m**\u001b[0m\u001b[0mkwargs\u001b[0m\u001b[1;33m)\u001b[0m\u001b[1;33m\u001b[0m\u001b[1;33m\u001b[0m\u001b[0m\n",
      "\u001b[1;32m~\\anaconda3\\envs\\modal\\lib\\site-packages\\matplotlib\\axes\\_axes.py\u001b[0m in \u001b[0;36mhist\u001b[1;34m(self, x, bins, range, density, weights, cumulative, bottom, histtype, align, orientation, rwidth, log, color, label, stacked, **kwargs)\u001b[0m\n\u001b[0;32m   6574\u001b[0m \u001b[1;33m\u001b[0m\u001b[0m\n\u001b[0;32m   6575\u001b[0m         \u001b[1;31m# Massage 'x' for processing.\u001b[0m\u001b[1;33m\u001b[0m\u001b[1;33m\u001b[0m\u001b[1;33m\u001b[0m\u001b[0m\n\u001b[1;32m-> 6576\u001b[1;33m         \u001b[0mx\u001b[0m \u001b[1;33m=\u001b[0m \u001b[0mcbook\u001b[0m\u001b[1;33m.\u001b[0m\u001b[0m_reshape_2D\u001b[0m\u001b[1;33m(\u001b[0m\u001b[0mx\u001b[0m\u001b[1;33m,\u001b[0m \u001b[1;34m'x'\u001b[0m\u001b[1;33m)\u001b[0m\u001b[1;33m\u001b[0m\u001b[1;33m\u001b[0m\u001b[0m\n\u001b[0m\u001b[0;32m   6577\u001b[0m         \u001b[0mnx\u001b[0m \u001b[1;33m=\u001b[0m \u001b[0mlen\u001b[0m\u001b[1;33m(\u001b[0m\u001b[0mx\u001b[0m\u001b[1;33m)\u001b[0m  \u001b[1;31m# number of datasets\u001b[0m\u001b[1;33m\u001b[0m\u001b[1;33m\u001b[0m\u001b[0m\n\u001b[0;32m   6578\u001b[0m \u001b[1;33m\u001b[0m\u001b[0m\n",
      "\u001b[1;32m~\\anaconda3\\envs\\modal\\lib\\site-packages\\matplotlib\\cbook\\__init__.py\u001b[0m in \u001b[0;36m_reshape_2D\u001b[1;34m(X, name)\u001b[0m\n\u001b[0;32m   1388\u001b[0m         \u001b[1;32mif\u001b[0m \u001b[0mnd\u001b[0m \u001b[1;33m>\u001b[0m \u001b[1;36m1\u001b[0m\u001b[1;33m:\u001b[0m\u001b[1;33m\u001b[0m\u001b[1;33m\u001b[0m\u001b[0m\n\u001b[0;32m   1389\u001b[0m             \u001b[1;32mraise\u001b[0m \u001b[0mValueError\u001b[0m\u001b[1;33m(\u001b[0m\u001b[1;34mf'{name} must have 2 or fewer dimensions'\u001b[0m\u001b[1;33m)\u001b[0m\u001b[1;33m\u001b[0m\u001b[1;33m\u001b[0m\u001b[0m\n\u001b[1;32m-> 1390\u001b[1;33m         \u001b[0mresult\u001b[0m\u001b[1;33m.\u001b[0m\u001b[0mappend\u001b[0m\u001b[1;33m(\u001b[0m\u001b[0mxi\u001b[0m\u001b[1;33m.\u001b[0m\u001b[0mreshape\u001b[0m\u001b[1;33m(\u001b[0m\u001b[1;33m-\u001b[0m\u001b[1;36m1\u001b[0m\u001b[1;33m)\u001b[0m\u001b[1;33m)\u001b[0m\u001b[1;33m\u001b[0m\u001b[1;33m\u001b[0m\u001b[0m\n\u001b[0m\u001b[0;32m   1391\u001b[0m \u001b[1;33m\u001b[0m\u001b[0m\n\u001b[0;32m   1392\u001b[0m     \u001b[1;32mif\u001b[0m \u001b[0mis_1d\u001b[0m\u001b[1;33m:\u001b[0m\u001b[1;33m\u001b[0m\u001b[1;33m\u001b[0m\u001b[0m\n",
      "\u001b[1;31mKeyboardInterrupt\u001b[0m: "
     ]
    },
    {
     "data": {
      "image/png": "[encoded data removed]",
      "text/plain": [
       "<Figure size 432x288 with 1 Axes>"
      ]
     },
     "metadata": {
      "needs_background": "light"
     },
     "output_type": "display_data"
    }
   ],
   "source": [
    "num_labels = plt.hist(list_labels, bins=range(max(list_labels)+2))"
   ]
  },
  {
   "cell_type": "code",
   "execution_count": null,
   "metadata": {},
   "outputs": [],
   "source": [
    "num_labels = num_labels[0]"
   ]
  },
  {
   "cell_type": "code",
   "execution_count": null,
   "metadata": {},
   "outputs": [],
   "source": [
    "max(num_labels)"
   ]
  },
  {
   "cell_type": "code",
   "execution_count": null,
   "metadata": {},
   "outputs": [],
   "source": [
    "i= 0\n",
    "nouv_lab = []\n",
    "for j in tnrange(len(list_labels)) :\n",
    "    if num_labels[list_labels[j]]>150 and num_labels[list_labels[j]]<300 :\n",
    "        nouv_lab.append(list_labels[j])\n",
    "list_labels = nouv_lab"
   ]
  },
  {
   "cell_type": "code",
   "execution_count": null,
   "metadata": {
    "scrolled": true
   },
   "outputs": [],
   "source": [
    "num_labels = plt.hist(list_labels, bins=range(14950+2))"
   ]
  },
  {
   "cell_type": "code",
   "execution_count": null,
   "metadata": {
    "scrolled": true
   },
   "outputs": [],
   "source": [
    "num_labels = num_labels[0]"
   ]
  },
  {
   "cell_type": "code",
   "execution_count": null,
   "metadata": {},
   "outputs": [],
   "source": [
    "max(num_labels)"
   ]
  },
  {
   "cell_type": "code",
   "execution_count": null,
   "metadata": {},
   "outputs": [],
   "source": [
    "len(list_labels)"
   ]
  },
  {
   "cell_type": "code",
   "execution_count": null,
   "metadata": {},
   "outputs": [],
   "source": [
    "compteur = 0\n",
    "dataset_url = ParseData(\"train.csv\")\n",
    "image_per_label = [0]*(15000)\n",
    "for data in tqdm.tqdm(dataset_url[:len(dataset_url)], total=len(dataset_url)):\n",
    "    (key, url, label) = data\n",
    "    if (label != \"None\") and (num_labels[int(label)]>150 and num_labels[int(label)]<300) and image_per_label[int(label)]<150 :\n",
    "        image_per_label[int(label)]+=1\n",
    "        compteur+=1\n",
    "compteur"
   ]
  },
  {
   "cell_type": "code",
   "execution_count": null,
   "metadata": {},
   "outputs": [],
   "source": [
    "size = 120\n",
    "dataset_url = ParseData(\"train.csv\")"
   ]
  },
  {
   "cell_type": "code",
   "execution_count": null,
   "metadata": {},
   "outputs": [],
   "source": [
    "import matplotlib.pyplot as plt\n",
    "import matplotlib\n",
    "import numpy as np\n",
    "\n",
    "from skimage import data\n",
    "\n",
    "import PIL.Image as IMG\n",
    "\n",
    "from imageio import imread\n",
    "import glob\n",
    "\n",
    "import torch\n",
    "from torchvision.utils import save_image\n",
    "\n",
    "matplotlib.rcParams['font.size'] = 18"
   ]
  },
  {
   "cell_type": "code",
   "execution_count": null,
   "metadata": {},
   "outputs": [],
   "source": [
    "%run preprocessing"
   ]
  },
  {
   "cell_type": "code",
   "execution_count": null,
   "metadata": {},
   "outputs": [],
   "source": [
    "def rescale_reshape(img, size):\n",
    "    img_t = to_float32(img)\n",
    "    img_t = rescale(img,size, size)\n",
    "    return img_t\n",
    "\n",
    "def ajout_transfo(img, high1=0.5, low1=0.1, high2=0.2, low2=0.05) :\n",
    "    r,g,b = rgb(img) \n",
    "    bandw = rgb_to_bandw(img)\n",
    "    vis_grad_g, vis_grad_b = vis_grad(bandw)\n",
    "    vis_hessian_g, vis_hessian_b = vis_hessian(bandw)\n",
    "    return [r,g,b,\n",
    "                      vis_grad_g, vis_grad_b,\n",
    "                      canny_edge_detection(bandw, high1, low1),\n",
    "                      canny_edge_detection(bandw, high2, low2),\n",
    "                      vis_hessian_g, vis_hessian_b]"
   ]
  },
  {
   "cell_type": "code",
   "execution_count": null,
   "metadata": {},
   "outputs": [],
   "source": [
    "\"\"\"\n",
    "image_per_label = multiprocessing.Array('i', [0]*(15000))\n",
    "\n",
    "\n",
    "def create_and_register(t):\n",
    "    i,data = t\n",
    "    (key, url, label) = data\n",
    "    if (label != \"None\") and (num_labels[int(label)]>150 and num_labels[int(label)]<300) and image_per_label[int(label)]<150 :\n",
    "        pil_image = DownloadImage(data)\n",
    "        if pil_image!= None :\n",
    "            pil_image = np.array(pil_image)\n",
    "            image_per_label[int(label)]+=1\n",
    "            pil_image = rescale_reshape(pil_image, size)\n",
    "            pil_image_li = ajout_transfo(pil_image)\n",
    "            couche = 0\n",
    "            for img in pil_image_li :\n",
    "                save_image(torch.from_numpy(img),\"/home/xavierdurand/transsup150/\" + str(i) + 'l' + str(label) + 'c' + str(couche) +\".png\")\n",
    "                couche += 1\n",
    "            \n",
    "\n",
    "def CreateDataset(data_file, num_labels):\n",
    "    arg = [(i,dataset_url[i]) for i in range(len(dataset_url))]\n",
    "    with multiprocessing.Pool() as p :\n",
    "        list(tqdm.tqdm(p.imap(create_and_register, arg), total=len(dataset_url)))\n",
    "\"\"\""
   ]
  },
  {
   "cell_type": "code",
   "execution_count": null,
   "metadata": {},
   "outputs": [],
   "source": [
    " image_per_label = multiprocessing.Array('i', [0]*(15000))\n",
    "\n",
    "\n",
    "def create_and_register(t):\n",
    "    i,data = t\n",
    "    (key, url, label) = data\n",
    "    if (label != \"None\") and (num_labels[int(label)]>150 and num_labels[int(label)]<300) and image_per_label[int(label)]<150 :\n",
    "        pil_image = DownloadImage(data)\n",
    "        if pil_image!= None :\n",
    "            pil_image = np.array(pil_image)\n",
    "            if len(pil_image.shape) < 3 :\n",
    "                return\n",
    "            image_per_label[int(label)]+=1\n",
    "            pil_image = rescale_reshape(pil_image, size)\n",
    "            pil_image_li = ajout_transfo(pil_image)\n",
    "            couche = 0\n",
    "            for img in pil_image_li :\n",
    "                img = img.reshape((size, size))\n",
    "                plt.imsave(\"testpre\" + str(i) + 'l' + str(label) + 'c' + str(couche) +\".png\", img, cmaps = 'Greys')\n",
    "                couche += 1\n",
    "            \n",
    "\n",
    "def CreateDataset(data_file, num_labels):\n",
    "    for i in tnrange(len(dataset_url)) :\n",
    "        arg = [(i,dataset_url[i])]\n",
    "        create_and_register(arg)"
   ]
  },
  {
   "cell_type": "code",
   "execution_count": null,
   "metadata": {
    "scrolled": true
   },
   "outputs": [],
   "source": [
    "size=120\n",
    "\n",
    "CreateDataset(\"train.csv\", num_labels)"
   ]
  }
 ],
 "metadata": {
  "kernelspec": {
   "display_name": "Python 3",
   "language": "python",
   "name": "python3"
  },
  "language_info": {
   "codemirror_mode": {
    "name": "ipython",
    "version": 3
   },
   "file_extension": ".py",
   "mimetype": "text/x-python",
   "name": "python",
   "nbconvert_exporter": "python",
   "pygments_lexer": "ipython3",
   "version": "3.7.9"
  }
 },
 "nbformat": 4,
 "nbformat_minor": 4
}
