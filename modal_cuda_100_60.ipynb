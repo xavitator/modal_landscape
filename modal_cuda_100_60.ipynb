{
 "cells": [
  {
   "cell_type": "markdown",
   "metadata": {},
   "source": [
    "# Importation des modules"
   ]
  },
  {
   "cell_type": "code",
   "execution_count": 1,
   "metadata": {},
   "outputs": [],
   "source": [
    "import matplotlib.pyplot as plt\n",
    "import matplotlib\n",
    "import numpy as np\n",
    "\n",
    "from skimage import data\n",
    "\n",
    "from PIL.Image import *\n",
    "\n",
    "from imageio import imread\n",
    "import glob\n",
    "from tqdm import tnrange\n",
    "from tqdm.notebook import tqdm_notebook\n",
    "import tqdm\n",
    "import torch\n",
    "from torchvision import datasets,transforms\n",
    "import torch.nn.functional as F\n",
    "import torch.nn as nn\n",
    "from torchvision.utils import save_image\n",
    "\n",
    "import multiprocessing\n",
    "\n"
   ]
  },
  {
   "cell_type": "code",
   "execution_count": 2,
   "metadata": {},
   "outputs": [
    {
     "data": {
      "text/plain": [
       "True"
      ]
     },
     "execution_count": 2,
     "metadata": {},
     "output_type": "execute_result"
    }
   ],
   "source": [
    "torch.cuda.is_available()"
   ]
  },
  {
   "cell_type": "markdown",
   "metadata": {},
   "source": [
    "# Test de modèle\n"
   ]
  },
  {
   "cell_type": "markdown",
   "metadata": {},
   "source": [
    "## Chargement du dataset"
   ]
  },
  {
   "cell_type": "code",
   "execution_count": 3,
   "metadata": {},
   "outputs": [],
   "source": [
    "size = 60"
   ]
  },
  {
   "cell_type": "code",
   "execution_count": 4,
   "metadata": {},
   "outputs": [],
   "source": [
    "def image_to_numpy(image) :\n",
    "    n = len(image)\n",
    "    image_bis = []\n",
    "    for i in range (n) :\n",
    "        image_bis.append([])\n",
    "        for j in range(n) :\n",
    "            image_bis[i].append(image[i][j][0])\n",
    "    return np.array(image_bis)"
   ]
  },
  {
   "cell_type": "code",
   "execution_count": 5,
   "metadata": {},
   "outputs": [],
   "source": [
    "list_images = []\n",
    "list_labels = []\n",
    "\n",
    "list_path = set()\n",
    "\n",
    "path_imgs = \"trans100_60/\"\n",
    "\n",
    "def select_unique_imgs():\n",
    "    for image_path in tqdm_notebook(glob.glob(path_imgs + \"*.png\")):\n",
    "        label = image_path.find('l')\n",
    "        couche = image_path.find('c')\n",
    "\n",
    "        id_image = image_path[:couche]\n",
    "        label_image = int(image_path[label+1:couche])\n",
    "        list_path.add((id_image, label_image))\n",
    "        \n",
    "\n",
    "\n",
    "\n",
    "def load_pictures(data_files):\n",
    "    with multiprocessing.Pool() as p :\n",
    "        res = list(tqdm.tqdm(p.imap(load_image.load_img_from_path, data_files), total=len(data_files)))\n",
    "    for lot_lab, lot_img in tqdm.tqdm(res, total=len(res)):\n",
    "        list_images.append(lot_img)\n",
    "        list_labels.append(lot_lab)"
   ]
  },
  {
   "cell_type": "code",
   "execution_count": 6,
   "metadata": {},
   "outputs": [
    {
     "data": {
      "application/vnd.jupyter.widget-view+json": {
       "model_id": "2b08f3b4c0e140f49b2d832503cdca9d",
       "version_major": 2,
       "version_minor": 0
      },
      "text/plain": [
       "HBox(children=(HTML(value=''), FloatProgress(value=0.0, max=79812.0), HTML(value='')))"
      ]
     },
     "metadata": {},
     "output_type": "display_data"
    },
    {
     "name": "stdout",
     "output_type": "stream",
     "text": [
      "\n"
     ]
    }
   ],
   "source": [
    "select_unique_imgs()"
   ]
  },
  {
   "cell_type": "code",
   "execution_count": 7,
   "metadata": {},
   "outputs": [
    {
     "name": "stderr",
     "output_type": "stream",
     "text": [
      "100%|██████████████████████████████████████████████████████████████████████████████| 8868/8868 [03:53<00:00, 37.91it/s]\n",
      "100%|█████████████████████████████████████████████████████████████████████████| 8868/8868 [00:00<00:00, 1773221.20it/s]\n"
     ]
    }
   ],
   "source": [
    "import load_image\n",
    "\n",
    "\n",
    "if __name__ ==  '__main__' : \n",
    "    load_pictures(list_path)"
   ]
  },
  {
   "cell_type": "code",
   "execution_count": 8,
   "metadata": {},
   "outputs": [
    {
     "data": {
      "image/png": "[encoded data removed]",
      "text/plain": [
       "<Figure size 432x288 with 1 Axes>"
      ]
     },
     "metadata": {
      "needs_background": "light"
     },
     "output_type": "display_data"
    }
   ],
   "source": [
    "n = len(list_images)\n",
    "num_label = plt.hist(list_labels, bins=range(max(list_labels)+2))"
   ]
  },
  {
   "cell_type": "code",
   "execution_count": 9,
   "metadata": {},
   "outputs": [],
   "source": [
    "num_label = num_label[0]\n",
    "deep=9"
   ]
  },
  {
   "cell_type": "code",
   "execution_count": 10,
   "metadata": {},
   "outputs": [],
   "source": [
    "nouv_label = [-1]*(max(list_labels)+2)\n",
    "compteur = 0\n",
    "for i in range(max(list_labels)+1) :\n",
    "    if num_label[i]>0 :\n",
    "        nouv_label[i]=compteur\n",
    "        compteur+=1"
   ]
  },
  {
   "cell_type": "code",
   "execution_count": 11,
   "metadata": {
    "scrolled": true
   },
   "outputs": [
    {
     "data": {
      "text/plain": [
       "[<matplotlib.lines.Line2D at 0x1212a6f08c8>]"
      ]
     },
     "execution_count": 11,
     "metadata": {},
     "output_type": "execute_result"
    },
    {
     "data": {
      "image/png": "[encoded data removed]",
      "text/plain": [
       "<Figure size 432x288 with 1 Axes>"
      ]
     },
     "metadata": {
      "needs_background": "light"
     },
     "output_type": "display_data"
    }
   ],
   "source": [
    "plt.plot(nouv_label)"
   ]
  },
  {
   "cell_type": "code",
   "execution_count": 12,
   "metadata": {},
   "outputs": [
    {
     "name": "stdout",
     "output_type": "stream",
     "text": [
      "94\n"
     ]
    }
   ],
   "source": [
    "label_max = max(nouv_label)\n",
    "print(label_max)"
   ]
  },
  {
   "cell_type": "code",
   "execution_count": 13,
   "metadata": {},
   "outputs": [],
   "source": [
    "nouv_list_labels = []\n",
    "for i in range(len(list_labels)) :\n",
    "    nouv_list_labels.append(nouv_label[list_labels[i]])"
   ]
  },
  {
   "cell_type": "code",
   "execution_count": 14,
   "metadata": {
    "scrolled": true
   },
   "outputs": [
    {
     "data": {
      "text/plain": [
       "(array([102.,  89.,  90.,  86., 100.,  90., 100.,  95., 102.,  88.,  98.,\n",
       "         92.,  97.,  92.,  89.,  54.,  87.,  77., 100.,  86., 100.,  92.,\n",
       "         95.,  96.,  96.,  97.,  99.,  89., 101.,  89.,  86.,  79.,  97.,\n",
       "        102.,  87., 102., 103.,  94., 101., 102.,  80.,  73.,  96., 101.,\n",
       "        102.,  91., 102.,  99., 102., 100.,  97.,  75.,  72., 100.,  92.,\n",
       "         93.,  99.,  99., 100., 100.,  96.,  88., 104.,  86.,  96.,  92.,\n",
       "         77., 100.,  91., 102.,  98.,  96.,  95., 103.,  98.,  97.,  92.,\n",
       "         79.,  88.,  99.,  71.,  96.,  99.,  99.,  96.,  97.,  97.,  92.,\n",
       "         94.,  78.,  88.,  95., 100.,  97.,  98.]),\n",
       " array([ 0,  1,  2,  3,  4,  5,  6,  7,  8,  9, 10, 11, 12, 13, 14, 15, 16,\n",
       "        17, 18, 19, 20, 21, 22, 23, 24, 25, 26, 27, 28, 29, 30, 31, 32, 33,\n",
       "        34, 35, 36, 37, 38, 39, 40, 41, 42, 43, 44, 45, 46, 47, 48, 49, 50,\n",
       "        51, 52, 53, 54, 55, 56, 57, 58, 59, 60, 61, 62, 63, 64, 65, 66, 67,\n",
       "        68, 69, 70, 71, 72, 73, 74, 75, 76, 77, 78, 79, 80, 81, 82, 83, 84,\n",
       "        85, 86, 87, 88, 89, 90, 91, 92, 93, 94, 95]),\n",
       " <BarContainer object of 95 artists>)"
      ]
     },
     "execution_count": 14,
     "metadata": {},
     "output_type": "execute_result"
    },
    {
     "data": {
      "image/png": "[encoded data removed]",
      "text/plain": [
       "<Figure size 432x288 with 1 Axes>"
      ]
     },
     "metadata": {
      "needs_background": "light"
     },
     "output_type": "display_data"
    }
   ],
   "source": [
    "plt.hist(nouv_list_labels, bins=range(label_max +2))"
   ]
  },
  {
   "cell_type": "code",
   "execution_count": 15,
   "metadata": {},
   "outputs": [
    {
     "data": {
      "text/plain": [
       "95"
      ]
     },
     "execution_count": 15,
     "metadata": {},
     "output_type": "execute_result"
    }
   ],
   "source": [
    "num_classes = label_max+1\n",
    "num_classes"
   ]
  },
  {
   "cell_type": "code",
   "execution_count": 16,
   "metadata": {},
   "outputs": [],
   "source": [
    "def shuffle_in_unison(list_images, list_labels):\n",
    "    assert len(list_images) == len(list_labels)\n",
    "    shuffled_list_images = np.empty(list_images.shape, dtype=list_images.dtype)\n",
    "    shuffled_list_labels = np.empty(list_labels.shape, dtype=list_labels.dtype)\n",
    "    permutation = np.random.permutation(len(list_images))\n",
    "    for old_index, new_index in enumerate(permutation):\n",
    "        shuffled_list_images[new_index] = list_images[old_index]\n",
    "        shuffled_list_labels[new_index] = list_labels[old_index]\n",
    "    return shuffled_list_images, shuffled_list_labels"
   ]
  },
  {
   "cell_type": "code",
   "execution_count": 17,
   "metadata": {
    "scrolled": true
   },
   "outputs": [
    {
     "data": {
      "text/plain": [
       "9"
      ]
     },
     "execution_count": 17,
     "metadata": {},
     "output_type": "execute_result"
    }
   ],
   "source": [
    "len(list_images[3])"
   ]
  },
  {
   "cell_type": "code",
   "execution_count": 18,
   "metadata": {},
   "outputs": [],
   "source": [
    "def list_to_torch(list_images, list_labels) :\n",
    "    n = len(list_images)\n",
    "    \n",
    "    torch_images=np.array([np.asarray(data) for data in list_images])\n",
    "    torch_labels=np.array(list_labels)\n",
    "    \n",
    "    torch_images, torch_labels=shuffle_in_unison(torch_images, torch_labels)\n",
    "    \n",
    "    torch_images = torch.from_numpy(torch_images).cuda()\n",
    "    torch_labels = torch.from_numpy(torch_labels).cuda()\n",
    "    \n",
    "    train_set = torch.utils.data.TensorDataset(torch_images[:int(0.8*n)],torch_labels[:int(0.8*n)])\n",
    "    test_set = torch.utils.data.TensorDataset(torch_images[int(0.8*n):],torch_labels[int(0.8*n):])\n",
    "    \n",
    "    return train_set, test_set"
   ]
  },
  {
   "cell_type": "code",
   "execution_count": 19,
   "metadata": {},
   "outputs": [],
   "source": [
    "train_set, test_set = list_to_torch(list_images, nouv_list_labels)"
   ]
  },
  {
   "cell_type": "code",
   "execution_count": 20,
   "metadata": {},
   "outputs": [
    {
     "name": "stdout",
     "output_type": "stream",
     "text": [
      "torch.Size([9, 60, 60])\n"
     ]
    }
   ],
   "source": [
    "print(train_set[0][0].shape)"
   ]
  },
  {
   "cell_type": "code",
   "execution_count": 21,
   "metadata": {},
   "outputs": [],
   "source": [
    "def train_epoch(net, train_set, opt, criterion, batch_size):\n",
    "    net.train()\n",
    "    trainloader = torch.utils.data.DataLoader(train_set, batch_size)\n",
    "    for x_batch, y_batch in trainloader :\n",
    "        opt.zero_grad()\n",
    "        # Forward\n",
    "        y_pred = net(x_batch.float())\n",
    "        y_batch = y_batch.long()\n",
    "        # Compute diff\n",
    "        loss = criterion(y_pred, y_batch)\n",
    "        # Compute gradients\n",
    "        loss.backward()\n",
    "        # update weights\n",
    "        opt.step()\n",
    "\n",
    "def accuracy(net, dataset):\n",
    "    net.eval()\n",
    "    correct = 0\n",
    "    trainloader = torch.utils.data.DataLoader(dataset, batch_size=1)\n",
    "    for x_batch, y_batch in trainloader :\n",
    "        y_pred = net(x_batch.float())\n",
    "        y_pred = torch.argmax(y_pred).int()\n",
    "        if int(y_pred)==int(y_batch[0]) :\n",
    "            correct+=1\n",
    "    return correct/len(dataset)"
   ]
  },
  {
   "cell_type": "code",
   "execution_count": 22,
   "metadata": {},
   "outputs": [],
   "source": [
    "class Net(nn.Module):\n",
    "    def __init__(self,size,deep_in, num_classes, deep_intern=36):\n",
    "        super(Net, self).__init__()\n",
    "        self.conv1 = nn.Conv2d(deep_in,18,5,1,2)\n",
    "        self.conv2 = nn.Conv2d(18,deep_intern,3,1,1)\n",
    "        self.fc = nn.Linear(size*size*deep_intern//16,num_classes)\n",
    "        self.size = size\n",
    "        self.num_classes=num_classes\n",
    "        self.deep_intern = deep_intern\n",
    "\n",
    "    def forward(self, x):\n",
    "        x = nn.MaxPool2d(2,None,0)(F.tanh(self.conv1(x)))\n",
    "        x = nn.MaxPool2d(2,None,0)(F.tanh(self.conv2(x)))\n",
    "        x = x.view(-1,self.size*self.size*self.deep_intern//16)\n",
    "        x = self.fc(x)\n",
    "        return x"
   ]
  },
  {
   "cell_type": "code",
   "execution_count": 23,
   "metadata": {},
   "outputs": [],
   "source": [
    "def xavier(tensor) :\n",
    "  with torch.no_grad():\n",
    "    tensor=torch.tensor(np.random.randn(tensor.shape[0], tensor.shape[1])/np.sqrt(tensor.shape[0]))"
   ]
  },
  {
   "cell_type": "code",
   "execution_count": 24,
   "metadata": {},
   "outputs": [],
   "source": [
    "def init_weights_xavier(m):\n",
    "    if type(m) == nn.Linear:\n",
    "      xavier(m.weight)"
   ]
  },
  {
   "cell_type": "code",
   "execution_count": 25,
   "metadata": {
    "scrolled": true
   },
   "outputs": [
    {
     "name": "stderr",
     "output_type": "stream",
     "text": [
      "C:\\Users\\stani\\anaconda3\\envs\\modal\\lib\\site-packages\\ipykernel_launcher.py:16: TqdmDeprecationWarning: Please use `tqdm.notebook.trange` instead of `tqdm.tnrange`\n",
      "  app.launch_new_instance()\n"
     ]
    },
    {
     "data": {
      "application/vnd.jupyter.widget-view+json": {
       "model_id": "bd7d250302d94a019119e2765417c759",
       "version_major": 2,
       "version_minor": 0
      },
      "text/plain": [
       "HBox(children=(HTML(value=''), FloatProgress(value=0.0, max=10.0), HTML(value='')))"
      ]
     },
     "metadata": {},
     "output_type": "display_data"
    },
    {
     "name": "stderr",
     "output_type": "stream",
     "text": [
      "C:\\Users\\stani\\anaconda3\\envs\\modal\\lib\\site-packages\\torch\\nn\\functional.py:1628: UserWarning: nn.functional.tanh is deprecated. Use torch.tanh instead.\n",
      "  warnings.warn(\"nn.functional.tanh is deprecated. Use torch.tanh instead.\")\n"
     ]
    },
    {
     "name": "stdout",
     "output_type": "stream",
     "text": [
      "\n"
     ]
    },
    {
     "data": {
      "image/png": "[encoded data removed]",
      "text/plain": [
       "<Figure size 432x288 with 1 Axes>"
      ]
     },
     "metadata": {
      "needs_background": "light"
     },
     "output_type": "display_data"
    },
    {
     "name": "stdout",
     "output_type": "stream",
     "text": [
      "accuracy :\n"
     ]
    },
    {
     "data": {
      "text/plain": [
       "0.4605411499436302"
      ]
     },
     "execution_count": 25,
     "metadata": {},
     "output_type": "execute_result"
    }
   ],
   "source": [
    "epochs = 10\n",
    "criterion = nn.CrossEntropyLoss()\n",
    "\n",
    "net = Net(size, deep, num_classes).cuda()\n",
    "\n",
    "net.apply(init_weights_xavier)\n",
    "\n",
    "\n",
    "opt = torch.optim.Adam(net.parameters(),lr=1e-3,betas=(0.9, 0.999),eps=1e-08)\n",
    "\n",
    "compteur = 0\n",
    "\n",
    "preci_train = []\n",
    "preci_test = []\n",
    "\n",
    "for i in tnrange(epochs) :\n",
    "    train_epoch(net, train_set, opt, criterion, batch_size=25)\n",
    "    preci_train.append(accuracy(net, train_set))\n",
    "    preci_test.append(accuracy(net, test_set))\n",
    "\n",
    "plt.plot(range(len(preci_train)), preci_train, label = \"train\")\n",
    "plt.plot(range(len(preci_test)), preci_test, label = \"test\")\n",
    "plt.legend()\n",
    "plt.show()\n",
    "\n",
    "print(\"accuracy :\") \n",
    "accuracy(net, test_set)"
   ]
  },
  {
   "cell_type": "code",
   "execution_count": 26,
   "metadata": {},
   "outputs": [
    {
     "name": "stdout",
     "output_type": "stream",
     "text": [
      "7094\n"
     ]
    }
   ],
   "source": [
    "print(len(train_set))"
   ]
  },
  {
   "cell_type": "code",
   "execution_count": 27,
   "metadata": {},
   "outputs": [
    {
     "name": "stdout",
     "output_type": "stream",
     "text": [
      "1774\n"
     ]
    }
   ],
   "source": [
    "print(len(test_set))"
   ]
  },
  {
   "cell_type": "code",
   "execution_count": 28,
   "metadata": {},
   "outputs": [],
   "source": [
    "class Inception(nn.Module):\n",
    "    def __init__(self, in_planes, kernel_1_x, kernel_3_in, kernel_3_x, kernel_5_in, kernel_5_x, pool_planes):\n",
    "        super(Inception, self).__init__()\n",
    "\n",
    "        #first scale :\n",
    "        self.first_scale = nn.Conv2d(in_planes, kernel_1_x, kernel_size=1, padding=0)\n",
    "\n",
    "        #second scale :\n",
    "        second_scale_1 = nn.Conv2d(in_planes, kernel_3_in, kernel_size=1, padding=0)\n",
    "        second_scale_2 = nn.Conv2d(kernel_3_in, kernel_3_x, kernel_size=3, padding=1)\n",
    "\n",
    "        self.second_scale = nn.Sequential(second_scale_1,second_scale_2)\n",
    "\n",
    "        #third scale :\n",
    "        third_scale_1 = nn.Conv2d(in_planes, kernel_5_in, kernel_size=1, padding=0)\n",
    "        third_scale_2 = nn.Conv2d(kernel_5_in, kernel_5_x, kernel_size=5, padding=2)\n",
    "\n",
    "        self.third_scale = nn.Sequential(third_scale_1,third_scale_2)\n",
    "\n",
    "\n",
    "        #forth scale :\n",
    "        forth_scale_1 = nn.MaxPool2d(3,1, padding=1)\n",
    "        forth_scale_2 = nn.Conv2d(in_planes, pool_planes, kernel_size=1, padding=0)   \n",
    "        \n",
    "        self.forth_scale = nn.Sequential(forth_scale_1,forth_scale_2)\n",
    "\n",
    "\n",
    "    def forward(self, x):\n",
    "      \n",
    "      x1 = self.first_scale(x)\n",
    "      x2 = self.second_scale(x)\n",
    "      x3 = self.third_scale(x)\n",
    "      x4 = self.forth_scale(x)\n",
    "        \n",
    "      res = torch.cat([x1,x2,x3,x4],1)\n",
    "      return res\n",
    "\n",
    "\n",
    "class GoogLeNet(nn.Module):\n",
    "    def __init__(self, input_dim=9):\n",
    "        super(GoogLeNet, self).__init__()\n",
    "        self.pre_layers = nn.Sequential(\n",
    "            nn.Conv2d(input_dim, 192, kernel_size=3, padding=1),\n",
    "            nn.BatchNorm2d(192),\n",
    "            nn.ReLU(True),\n",
    "        )\n",
    "        \n",
    "        self.layer1 = Inception(192,  64,  96, 128, 16, 32, 32)\n",
    "        \n",
    "        self.layer2 = Inception(256, 128, 128, 192, 32, 96, 64)\n",
    "        \n",
    "        self.layer3 = Inception(480, 192,  96, 208, 16,  48,  64)\n",
    "        \n",
    "        self.max_pool = nn.MaxPool2d(3, stride=2, padding=1)\n",
    "        \n",
    "        self.avgpool = nn.AvgPool2d(8, stride=1)\n",
    "        self.linear = nn.Linear(512, num_classes)\n",
    "        \n",
    "\n",
    "    def forward(self, x):\n",
    "        \n",
    "        x = self.pre_layers(x)\n",
    "        x = self.layer1(x)\n",
    "        x = self.max_pool(x)\n",
    "        x = self.layer2(x)\n",
    "        x = self.max_pool(x)\n",
    "        x = self.layer3(x)\n",
    "        x = self.max_pool(x)\n",
    "        x = self.avgpool(x)\n",
    "        x = x.view(x.size(0), -1)\n",
    "        x = self.linear(x)\n",
    "        return x\n"
   ]
  },
  {
   "cell_type": "code",
   "execution_count": 29,
   "metadata": {
    "scrolled": true
   },
   "outputs": [
    {
     "name": "stderr",
     "output_type": "stream",
     "text": [
      "C:\\Users\\stani\\anaconda3\\envs\\modal\\lib\\site-packages\\ipykernel_launcher.py:13: TqdmDeprecationWarning: Please use `tqdm.notebook.trange` instead of `tqdm.tnrange`\n",
      "  del sys.path[0]\n"
     ]
    },
    {
     "data": {
      "application/vnd.jupyter.widget-view+json": {
       "model_id": "55efda3b3d9f495aa1b0aec0fef57734",
       "version_major": 2,
       "version_minor": 0
      },
      "text/plain": [
       "HBox(children=(HTML(value=''), FloatProgress(value=0.0, max=30.0), HTML(value='')))"
      ]
     },
     "metadata": {},
     "output_type": "display_data"
    },
    {
     "name": "stdout",
     "output_type": "stream",
     "text": [
      "\n"
     ]
    },
    {
     "data": {
      "image/png": "[encoded data removed]",
      "text/plain": [
       "<Figure size 432x288 with 1 Axes>"
      ]
     },
     "metadata": {
      "needs_background": "light"
     },
     "output_type": "display_data"
    },
    {
     "name": "stdout",
     "output_type": "stream",
     "text": [
      "accuracy :\n"
     ]
    },
    {
     "data": {
      "text/plain": [
       "0.7406989853438557"
      ]
     },
     "execution_count": 29,
     "metadata": {},
     "output_type": "execute_result"
    }
   ],
   "source": [
    "epochs = 30\n",
    "criterion = nn.CrossEntropyLoss()\n",
    "\n",
    "net =  GoogLeNet().cuda()\n",
    "\n",
    "opt = torch.optim.Adam(net.parameters(),lr=1e-3,betas=(0.9, 0.999),eps=1e-08)\n",
    "\n",
    "compteur = 0\n",
    "\n",
    "preci_train = []\n",
    "preci_test = []\n",
    "\n",
    "for i in tnrange(epochs) :\n",
    "    train_epoch(net, train_set, opt, criterion, batch_size=25)\n",
    "    preci_train.append(accuracy(net, train_set))\n",
    "    preci_test.append(accuracy(net, test_set))\n",
    "\n",
    "plt.plot(range(len(preci_train)), preci_train, label = \"train\")\n",
    "plt.plot(range(len(preci_test)), preci_test, label = \"test\")\n",
    "plt.legend()\n",
    "plt.show()\n",
    "\n",
    "print(\"accuracy :\") \n",
    "accuracy(net, test_set)"
   ]
  }
 ],
 "metadata": {
  "kernelspec": {
   "display_name": "Python 3",
   "language": "python",
   "name": "python3"
  },
  "language_info": {
   "codemirror_mode": {
    "name": "ipython",
    "version": 3
   },
   "file_extension": ".py",
   "mimetype": "text/x-python",
   "name": "python",
   "nbconvert_exporter": "python",
   "pygments_lexer": "ipython3",
   "version": "3.7.9"
  }
 },
 "nbformat": 4,
 "nbformat_minor": 4
}
