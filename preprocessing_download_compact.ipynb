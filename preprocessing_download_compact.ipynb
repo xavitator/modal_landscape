{
 "cells": [
  {
   "cell_type": "code",
   "execution_count": 2,
   "metadata": {},
   "outputs": [],
   "source": [
    "#!/usr/bin/python\n",
    "\n",
    "# Note to Kagglers: This script will not run directly in Kaggle kernels. You\n",
    "# need to download it and run it on your local machine.\n",
    "\n",
    "# Downloads images from the Google Landmarks dataset using multiple threads.\n",
    "# Images that already exist will not be downloaded again, so the script can\n",
    "# resume a partially completed download. All images will be saved in the JPG\n",
    "# format with 90% compression quality.\n",
    "\n",
    "import sys, os, multiprocessing, csv\n",
    "from PIL import Image\n",
    "from io import BytesIO\n",
    "from urllib.request import urlopen\n",
    "import tqdm\n",
    "from tqdm import tnrange\n",
    "from tqdm.contrib.concurrent import process_map\n",
    "\n",
    "from matplotlib import pyplot as plt\n",
    "\n",
    "debut_lab = 99\n",
    "fin_lab = 106\n",
    "size = 120\n",
    "\n",
    "\n",
    "def ParseData(data_file):\n",
    "  csvfile = open(data_file, 'r')\n",
    "  csvreader = csv.reader(csvfile)\n",
    "  dataset = [line for line in csvreader]\n",
    "  return dataset[1:]  # Chop off header\n",
    "\n",
    "\n",
    "def DownloadImage(data):\n",
    "  (key, url, label) = data\n",
    "\n",
    "  try:\n",
    "    response = urlopen(url)\n",
    "    image_data = response.read()\n",
    "    #print(\"read\")\n",
    "  except:\n",
    "    #print('Warning: Could not download image %s from %s' % (key, url))\n",
    "    return\n",
    "\n",
    "  try:\n",
    "    pil_image = Image.open(BytesIO(image_data))\n",
    "    #print(\"parsed\")\n",
    "    return pil_image\n",
    "  except:\n",
    "    #print('Warning: Failed to parse image %s' % key)\n",
    "    return\n"
   ]
  },
  {
   "cell_type": "code",
   "execution_count": 3,
   "metadata": {},
   "outputs": [],
   "source": [
    "def Create_labels (data_file):\n",
    "    dataset_url = ParseData(data_file)\n",
    "    dataset = []\n",
    "    for data in tqdm.tqdm(dataset_url[:len(dataset_url)], total=len(dataset_url)) :\n",
    "        (key, url, label) = data \n",
    "        if label != \"None\" :\n",
    "            dataset.append(int(label))\n",
    "    return dataset"
   ]
  },
  {
   "cell_type": "code",
   "execution_count": 4,
   "metadata": {
    "scrolled": true
   },
   "outputs": [
    {
     "name": "stderr",
     "output_type": "stream",
     "text": [
      "100%|██████████| 1225029/1225029 [00:00<00:00, 1810917.09it/s]\n"
     ]
    }
   ],
   "source": [
    "list_labels = Create_labels(\"train.csv\")"
   ]
  },
  {
   "cell_type": "code",
   "execution_count": 5,
   "metadata": {},
   "outputs": [
    {
     "data": {
      "text/plain": [
       "1225029"
      ]
     },
     "execution_count": 5,
     "metadata": {},
     "output_type": "execute_result"
    }
   ],
   "source": [
    "len(list_labels)"
   ]
  },
  {
   "cell_type": "code",
   "execution_count": 6,
   "metadata": {
    "scrolled": true
   },
   "outputs": [
    {
     "data": {
      "text/plain": [
       "14950"
      ]
     },
     "execution_count": 6,
     "metadata": {},
     "output_type": "execute_result"
    }
   ],
   "source": [
    "max(list_labels)"
   ]
  },
  {
   "cell_type": "code",
   "execution_count": 7,
   "metadata": {
    "scrolled": true
   },
   "outputs": [
    {
     "data": {
      "image/png": "[encoded data removed]",
      "text/plain": [
       "<Figure size 432x288 with 1 Axes>"
      ]
     },
     "metadata": {
      "needs_background": "light"
     },
     "output_type": "display_data"
    }
   ],
   "source": [
    "num_labels = plt.hist(list_labels, bins=range(max(list_labels)+2))"
   ]
  },
  {
   "cell_type": "code",
   "execution_count": 8,
   "metadata": {},
   "outputs": [],
   "source": [
    "num_labels = num_labels[0]"
   ]
  },
  {
   "cell_type": "code",
   "execution_count": 9,
   "metadata": {},
   "outputs": [
    {
     "data": {
      "text/plain": [
       "50337.0"
      ]
     },
     "execution_count": 9,
     "metadata": {},
     "output_type": "execute_result"
    }
   ],
   "source": [
    "max(num_labels)"
   ]
  },
  {
   "cell_type": "code",
   "execution_count": 10,
   "metadata": {},
   "outputs": [
    {
     "name": "stderr",
     "output_type": "stream",
     "text": [
      "C:\\Users\\stani\\anaconda3\\envs\\modal\\lib\\site-packages\\ipykernel_launcher.py:3: TqdmDeprecationWarning: Please use `tqdm.notebook.trange` instead of `tqdm.tnrange`\n",
      "  This is separate from the ipykernel package so we can avoid doing imports until\n"
     ]
    },
    {
     "data": {
      "application/vnd.jupyter.widget-view+json": {
       "model_id": "84101a3e89d94ffa97e4ab058c88ca0f",
       "version_major": 2,
       "version_minor": 0
      },
      "text/plain": [
       "HBox(children=(HTML(value=''), FloatProgress(value=0.0, max=1225029.0), HTML(value='')))"
      ]
     },
     "metadata": {},
     "output_type": "display_data"
    },
    {
     "name": "stdout",
     "output_type": "stream",
     "text": [
      "\n"
     ]
    }
   ],
   "source": [
    "i= 0\n",
    "nouv_lab = []\n",
    "for j in tnrange(len(list_labels)) :\n",
    "    if num_labels[list_labels[j]]>debut_lab and num_labels[list_labels[j]]<fin_lab :\n",
    "        nouv_lab.append(list_labels[j])\n",
    "list_labels = nouv_lab"
   ]
  },
  {
   "cell_type": "code",
   "execution_count": 11,
   "metadata": {
    "scrolled": true
   },
   "outputs": [
    {
     "data": {
      "image/png": "[encoded data removed]",
      "text/plain": [
       "<Figure size 432x288 with 1 Axes>"
      ]
     },
     "metadata": {
      "needs_background": "light"
     },
     "output_type": "display_data"
    }
   ],
   "source": [
    "num_labels = plt.hist(list_labels, bins=range(14950+2))"
   ]
  },
  {
   "cell_type": "code",
   "execution_count": 12,
   "metadata": {
    "scrolled": true
   },
   "outputs": [],
   "source": [
    "num_labels = num_labels[0]"
   ]
  },
  {
   "cell_type": "code",
   "execution_count": 13,
   "metadata": {},
   "outputs": [
    {
     "data": {
      "text/plain": [
       "105.0"
      ]
     },
     "execution_count": 13,
     "metadata": {},
     "output_type": "execute_result"
    }
   ],
   "source": [
    "max(num_labels)"
   ]
  },
  {
   "cell_type": "code",
   "execution_count": 14,
   "metadata": {},
   "outputs": [
    {
     "data": {
      "text/plain": [
       "9754"
      ]
     },
     "execution_count": 14,
     "metadata": {},
     "output_type": "execute_result"
    }
   ],
   "source": [
    "len(list_labels)"
   ]
  },
  {
   "cell_type": "code",
   "execution_count": 15,
   "metadata": {},
   "outputs": [
    {
     "name": "stderr",
     "output_type": "stream",
     "text": [
      "100%|██████████| 1225029/1225029 [00:01<00:00, 996581.31it/s]\n"
     ]
    },
    {
     "data": {
      "text/plain": [
       "101100"
      ]
     },
     "execution_count": 15,
     "metadata": {},
     "output_type": "execute_result"
    }
   ],
   "source": [
    "compteur = 0\n",
    "dataset_url = ParseData(\"train.csv\")\n",
    "image_per_label = [0]*(15000)\n",
    "for data in tqdm.tqdm(dataset_url[:len(dataset_url)], total=len(dataset_url)):\n",
    "    (key, url, label) = data\n",
    "    if (label != \"None\") and (num_labels[int(label)]>debut_lab and num_labels[int(label)]<fin_lab) and image_per_label[int(label)]<fin_lab :\n",
    "        image_per_label[int(label)]+=1\n",
    "        compteur+=1\n",
    "compteur"
   ]
  },
  {
   "cell_type": "code",
   "execution_count": 16,
   "metadata": {},
   "outputs": [],
   "source": [
    "dataset_url = ParseData(\"train.csv\")"
   ]
  },
  {
   "cell_type": "code",
   "execution_count": 17,
   "metadata": {},
   "outputs": [],
   "source": [
    "import matplotlib.pyplot as plt\n",
    "import matplotlib\n",
    "import numpy as np\n",
    "\n",
    "from skimage import data\n",
    "\n",
    "import PIL.Image as IMG\n",
    "\n",
    "from imageio import imread\n",
    "import glob\n",
    "\n",
    "import torch\n",
    "from torchvision.utils import save_image\n",
    "\n",
    "matplotlib.rcParams['font.size'] = 18"
   ]
  },
  {
   "cell_type": "code",
   "execution_count": 18,
   "metadata": {},
   "outputs": [],
   "source": [
    "%run preprocessing"
   ]
  },
  {
   "cell_type": "code",
   "execution_count": 19,
   "metadata": {},
   "outputs": [],
   "source": [
    "def rescale_reshape(img, size):\n",
    "    img_t = to_float32(img)\n",
    "    img_t = rescale(img,size, size)\n",
    "    return img_t\n",
    "\n",
    "def ajout_transfo(img, high1=0.5, low1=0.1, high2=0.2, low2=0.05) :\n",
    "    r,g,b = rgb(img) \n",
    "    bandw = rgb_to_bandw(img)\n",
    "    vis_grad_g, vis_grad_b = vis_grad(bandw)\n",
    "    vis_hessian_g, vis_hessian_b = vis_hessian(bandw)\n",
    "    return [r,g,b,\n",
    "                      vis_grad_g, vis_grad_b,\n",
    "                      canny_edge_detection(bandw, high1, low1),\n",
    "                      canny_edge_detection(bandw, high2, low2),\n",
    "                      vis_hessian_g, vis_hessian_b]"
   ]
  },
  {
   "cell_type": "code",
   "execution_count": 20,
   "metadata": {},
   "outputs": [
    {
     "data": {
      "text/plain": [
       "'\\nimage_per_label = multiprocessing.Array(\\'i\\', [0]*(15000))\\n\\n\\ndef create_and_register(t):\\n    i,data = t\\n    (key, url, label) = data\\n    if (label != \"None\") and (num_labels[int(label)]>150 and num_labels[int(label)]<300) and image_per_label[int(label)]<150 :\\n        pil_image = DownloadImage(data)\\n        if pil_image!= None :\\n            pil_image = np.array(pil_image)\\n            image_per_label[int(label)]+=1\\n            pil_image = rescale_reshape(pil_image, size)\\n            pil_image_li = ajout_transfo(pil_image)\\n            couche = 0\\n            for img in pil_image_li :\\n                save_image(torch.from_numpy(img),\"/home/xavierdurand/transsup150/\" + str(i) + \\'l\\' + str(label) + \\'c\\' + str(couche) +\".png\")\\n                couche += 1\\n            \\n\\ndef CreateDataset(data_file, num_labels):\\n    arg = [(i,dataset_url[i]) for i in range(len(dataset_url))]\\n    with multiprocessing.Pool() as p :\\n        list(tqdm.tqdm(p.imap(create_and_register, arg), total=len(dataset_url)))\\n'"
      ]
     },
     "execution_count": 20,
     "metadata": {},
     "output_type": "execute_result"
    }
   ],
   "source": [
    "\"\"\"\n",
    "image_per_label = multiprocessing.Array('i', [0]*(15000))\n",
    "\n",
    "\n",
    "def create_and_register(t):\n",
    "    i,data = t\n",
    "    (key, url, label) = data\n",
    "    if (label != \"None\") and (num_labels[int(label)]>150 and num_labels[int(label)]<300) and image_per_label[int(label)]<150 :\n",
    "        pil_image = DownloadImage(data)\n",
    "        if pil_image!= None :\n",
    "            pil_image = np.array(pil_image)\n",
    "            image_per_label[int(label)]+=1\n",
    "            pil_image = rescale_reshape(pil_image, size)\n",
    "            pil_image_li = ajout_transfo(pil_image)\n",
    "            couche = 0\n",
    "            for img in pil_image_li :\n",
    "                save_image(torch.from_numpy(img),\"/home/xavierdurand/transsup150/\" + str(i) + 'l' + str(label) + 'c' + str(couche) +\".png\")\n",
    "                couche += 1\n",
    "            \n",
    "\n",
    "def CreateDataset(data_file, num_labels):\n",
    "    arg = [(i,dataset_url[i]) for i in range(len(dataset_url))]\n",
    "    with multiprocessing.Pool() as p :\n",
    "        list(tqdm.tqdm(p.imap(create_and_register, arg), total=len(dataset_url)))\n",
    "\"\"\""
   ]
  },
  {
   "cell_type": "code",
   "execution_count": 22,
   "metadata": {},
   "outputs": [],
   "source": [
    " #image_per_label = multiprocessing.Array('i', [0]*(15000))\n",
    "\n",
    "\n",
    "def create_and_register(t):\n",
    "    i,data = t\n",
    "    (key, url, label) = data\n",
    "    if (label != \"None\") and (num_labels[int(label)]>debut_lab and num_labels[int(label)]<fin_lab) :\n",
    "        pil_image = DownloadImage(data)\n",
    "        if pil_image!= None :\n",
    "            pil_image = np.array(pil_image)\n",
    "            if len(pil_image.shape) < 3 :\n",
    "                return\n",
    "            #image_per_label[int(label)]+=1\n",
    "            pil_image = rescale_reshape(pil_image, size)\n",
    "            pil_image_li = ajout_transfo(pil_image)\n",
    "            couche = 0\n",
    "            for img in pil_image_li :\n",
    "                img = img.reshape((size, size))\n",
    "                plt.imsave(\"/home/xavierdurand/trans100umi/\" + str(i) + 'l' + str(label) + 'c' + str(couche) +\".png\", img, cmap=\"Greys\")\n",
    "                couche += 1\n",
    "            \n",
    "\n",
    "def CreateDataset(data_file, num_labels):\n",
    "    arg = [(i,dataset_url[i]) for i in range(len(dataset_url))]\n",
    "    with multiprocessing.Pool() as p :\n",
    "        list(tqdm.tqdm(p.imap(create_and_register, arg), total=len(dataset_url)))"
   ]
  },
  {
   "cell_type": "code",
   "execution_count": 23,
   "metadata": {
    "scrolled": true
   },
   "outputs": [
    {
     "name": "stderr",
     "output_type": "stream",
     "text": [
      "100%|██████████| 1225029/1225029 [2:50:53<00:00, 119.47it/s] \n"
     ]
    }
   ],
   "source": [
    "CreateDataset(\"train.csv\", num_labels)"
   ]
  },
  {
   "cell_type": "code",
   "execution_count": 26,
   "metadata": {},
   "outputs": [],
   "source": [
    "a = np.array([[1]])\n",
    "b = np.array([[0,0]])\n",
    "\n",
    "c = np.concatenate([a,b],axis = 1)"
   ]
  },
  {
   "cell_type": "code",
   "execution_count": 27,
   "metadata": {},
   "outputs": [
    {
     "data": {
      "text/plain": [
       "array([[1, 0, 0]])"
      ]
     },
     "execution_count": 27,
     "metadata": {},
     "output_type": "execute_result"
    }
   ],
   "source": [
    "c"
   ]
  },
  {
   "cell_type": "code",
   "execution_count": 22,
   "metadata": {},
   "outputs": [],
   "source": [
    "a[0] = 2"
   ]
  },
  {
   "cell_type": "code",
   "execution_count": 24,
   "metadata": {},
   "outputs": [],
   "source": [
    "empty = np.zeros([1,3])"
   ]
  },
  {
   "cell_type": "code",
   "execution_count": 25,
   "metadata": {},
   "outputs": [
    {
     "data": {
      "text/plain": [
       "array([[0., 0., 0.]])"
      ]
     },
     "execution_count": 25,
     "metadata": {},
     "output_type": "execute_result"
    }
   ],
   "source": [
    "empty"
   ]
  },
  {
   "cell_type": "code",
   "execution_count": 19,
   "metadata": {},
   "outputs": [
    {
     "ename": "ValueError",
     "evalue": "could not broadcast input array from shape (3) into shape (2)",
     "output_type": "error",
     "traceback": [
      "\u001b[1;31m---------------------------------------------------------------------------\u001b[0m",
      "\u001b[1;31mValueError\u001b[0m                                Traceback (most recent call last)",
      "\u001b[1;32m<ipython-input-19-f351dbd3dea9>\u001b[0m in \u001b[0;36m<module>\u001b[1;34m\u001b[0m\n\u001b[1;32m----> 1\u001b[1;33m \u001b[0mempty\u001b[0m\u001b[1;33m[\u001b[0m\u001b[1;33m:\u001b[0m\u001b[1;33m,\u001b[0m\u001b[1;36m0\u001b[0m\u001b[1;33m]\u001b[0m \u001b[1;33m=\u001b[0m \u001b[0ma\u001b[0m\u001b[1;33m[\u001b[0m\u001b[1;33m:\u001b[0m\u001b[1;33m]\u001b[0m\u001b[1;33m\u001b[0m\u001b[1;33m\u001b[0m\u001b[0m\n\u001b[0m",
      "\u001b[1;31mValueError\u001b[0m: could not broadcast input array from shape (3) into shape (2)"
     ]
    }
   ],
   "source": [
    "empty[:,0] = a[:]"
   ]
  },
  {
   "cell_type": "code",
   "execution_count": null,
   "metadata": {},
   "outputs": [],
   "source": []
  }
 ],
 "metadata": {
  "kernelspec": {
   "display_name": "Python 3",
   "language": "python",
   "name": "python3"
  },
  "language_info": {
   "codemirror_mode": {
    "name": "ipython",
    "version": 3
   },
   "file_extension": ".py",
   "mimetype": "text/x-python",
   "name": "python",
   "nbconvert_exporter": "python",
   "pygments_lexer": "ipython3",
   "version": "3.7.9"
  }
 },
 "nbformat": 4,
 "nbformat_minor": 4
}
