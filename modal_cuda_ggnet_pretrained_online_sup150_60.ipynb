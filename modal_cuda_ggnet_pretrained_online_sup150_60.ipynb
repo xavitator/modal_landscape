{
 "cells": [
  {
   "cell_type": "markdown",
   "metadata": {},
   "source": [
    "# Importation des modules"
   ]
  },
  {
   "cell_type": "code",
   "execution_count": 1,
   "metadata": {},
   "outputs": [],
   "source": [
    "import matplotlib.pyplot as plt\n",
    "import matplotlib\n",
    "import numpy as np\n",
    "\n",
    "from skimage import data\n",
    "\n",
    "from PIL.Image import *\n",
    "\n",
    "from imageio import imread\n",
    "import glob\n",
    "from tqdm import tnrange\n",
    "from tqdm.notebook import tqdm_notebook\n",
    "import tqdm\n",
    "import torch\n",
    "from torchvision import datasets,transforms\n",
    "import torch.nn.functional as F\n",
    "import torch.nn as nn\n",
    "import torch.utils.model_zoo as model_zoo\n",
    "from torchvision.utils import save_image\n",
    "\n",
    "import multiprocessing\n",
    "import time"
   ]
  },
  {
   "cell_type": "code",
   "execution_count": 2,
   "metadata": {},
   "outputs": [
    {
     "data": {
      "text/plain": [
       "True"
      ]
     },
     "execution_count": 2,
     "metadata": {},
     "output_type": "execute_result"
    }
   ],
   "source": [
    "torch.cuda.is_available()"
   ]
  },
  {
   "cell_type": "markdown",
   "metadata": {},
   "source": [
    "# Création du train_set et test_set\n"
   ]
  },
  {
   "cell_type": "markdown",
   "metadata": {},
   "source": [
    "## Chargement du dataset"
   ]
  },
  {
   "cell_type": "code",
   "execution_count": 3,
   "metadata": {},
   "outputs": [],
   "source": [
    "size = 60"
   ]
  },
  {
   "cell_type": "code",
   "execution_count": 4,
   "metadata": {},
   "outputs": [],
   "source": [
    "deep = 3"
   ]
  },
  {
   "cell_type": "code",
   "execution_count": 5,
   "metadata": {},
   "outputs": [],
   "source": [
    "def image_to_numpy(image) :\n",
    "    n = len(image)\n",
    "    image_bis = []\n",
    "    for i in range (n) :\n",
    "        image_bis.append([])\n",
    "        for j in range(n) :\n",
    "            image_bis[i].append(image[i][j][0])\n",
    "    return np.array(image_bis)"
   ]
  },
  {
   "cell_type": "code",
   "execution_count": 6,
   "metadata": {},
   "outputs": [],
   "source": [
    "list_images = []\n",
    "list_labels = []\n",
    "\n",
    "list_path = set()\n",
    "\n",
    "path_imgs = \"transsup150_60/transsup150_60/\"\n",
    "\n",
    "def select_unique_imgs():\n",
    "    for image_path in tqdm_notebook(glob.glob(path_imgs + \"*.png\")):\n",
    "        label = image_path.find('l')\n",
    "        couche = image_path.find('c')\n",
    "        id_image = image_path[:couche]\n",
    "        label_image = int(image_path[label+1:couche])\n",
    "        list_path.add((id_image, label_image))\n",
    "\n",
    "\n",
    "\n",
    "def load_pictures(data_files):\n",
    "    with multiprocessing.Pool() as p :\n",
    "        res = list(tqdm.tqdm(p.imap(load_image3.load_img_from_path, data_files), total=len(data_files)))\n",
    "    for lot_lab, lot_img in tqdm.tqdm(res, total=len(res)):\n",
    "        list_images.append(lot_img)\n",
    "        list_labels.append(lot_lab)"
   ]
  },
  {
   "cell_type": "code",
   "execution_count": 7,
   "metadata": {},
   "outputs": [
    {
     "data": {
      "application/vnd.jupyter.widget-view+json": {
       "model_id": "140d04409d144afcb56be225d4c5d2fd",
       "version_major": 2,
       "version_minor": 0
      },
      "text/plain": [
       "HBox(children=(HTML(value=''), FloatProgress(value=0.0, max=913203.0), HTML(value='')))"
      ]
     },
     "metadata": {},
     "output_type": "display_data"
    },
    {
     "name": "stdout",
     "output_type": "stream",
     "text": [
      "\n"
     ]
    }
   ],
   "source": [
    "select_unique_imgs()"
   ]
  },
  {
   "cell_type": "code",
   "execution_count": 8,
   "metadata": {},
   "outputs": [
    {
     "name": "stderr",
     "output_type": "stream",
     "text": [
      "100%|█████████████████████████████████████████████████████████████████████████| 101467/101467 [15:11<00:00, 111.27it/s]\n",
      "100%|█████████████████████████████████████████████████████████████████████| 101467/101467 [00:00<00:00, 1878897.54it/s]\n"
     ]
    }
   ],
   "source": [
    "import load_image3\n",
    "\n",
    "\n",
    "if __name__ ==  '__main__' : \n",
    "    load_pictures(list_path)"
   ]
  },
  {
   "cell_type": "markdown",
   "metadata": {},
   "source": [
    "## Renumérotation des labels"
   ]
  },
  {
   "cell_type": "code",
   "execution_count": 9,
   "metadata": {},
   "outputs": [
    {
     "name": "stdout",
     "output_type": "stream",
     "text": [
      "nombre de classes :  655\n",
      "répartition des labels :\n"
     ]
    },
    {
     "data": {
      "image/png": "[encoded data removed]",
      "text/plain": [
       "<Figure size 432x288 with 1 Axes>"
      ]
     },
     "metadata": {
      "needs_background": "light"
     },
     "output_type": "display_data"
    }
   ],
   "source": [
    "num_label = np.histogram(list_labels, bins=range(max(list_labels)+2))[0]\n",
    "nouv_label = [-1]*(max(list_labels)+2)\n",
    "compteur = 0\n",
    "for i in range(max(list_labels)+1) :\n",
    "    if num_label[i]>0 :\n",
    "        nouv_label[i]=compteur\n",
    "        compteur+=1\n",
    "        \n",
    "label_max = max(nouv_label)\n",
    "\n",
    "num_classes = label_max+1\n",
    "\n",
    "print(\"nombre de classes : \", num_classes)\n",
    "\n",
    "nouv_list_labels = []\n",
    "for i in range(len(list_labels)) :\n",
    "    nouv_list_labels.append(nouv_label[list_labels[i]])\n",
    "\n",
    "plt.hist(nouv_list_labels, bins=range(label_max +2))\n",
    "\n",
    "print(\"répartition des labels :\")"
   ]
  },
  {
   "cell_type": "markdown",
   "metadata": {},
   "source": [
    "## Mélange et transformation pytorch du dataset en train_set et test_set"
   ]
  },
  {
   "cell_type": "code",
   "execution_count": 10,
   "metadata": {},
   "outputs": [],
   "source": [
    "def shuffle_in_unison(list_images, list_labels):\n",
    "    assert len(list_images) == len(list_labels)\n",
    "    shuffled_list_images = np.empty(list_images.shape, dtype=list_images.dtype)\n",
    "    shuffled_list_labels = np.empty(list_labels.shape, dtype=list_labels.dtype)\n",
    "    permutation = np.random.permutation(len(list_images))\n",
    "    for old_index, new_index in enumerate(permutation):\n",
    "        shuffled_list_images[new_index] = list_images[old_index]\n",
    "        shuffled_list_labels[new_index] = list_labels[old_index]\n",
    "    return shuffled_list_images, shuffled_list_labels"
   ]
  },
  {
   "cell_type": "code",
   "execution_count": 11,
   "metadata": {},
   "outputs": [],
   "source": [
    "def list_to_torch(list_images, list_labels) :\n",
    "    n = len(list_images)\n",
    "    \n",
    "    torch_images=np.array([np.asarray(data) for data in list_images])\n",
    "    torch_labels=np.array(list_labels)\n",
    "    \n",
    "    torch_images, torch_labels=shuffle_in_unison(torch_images, torch_labels)\n",
    "    \n",
    "    torch_images = torch.from_numpy(torch_images).cuda()\n",
    "    torch_labels = torch.from_numpy(torch_labels).cuda()\n",
    "    \n",
    "    train_set = torch.utils.data.TensorDataset(torch_images[:int(0.8*n)],torch_labels[:int(0.8*n)])\n",
    "    test_set = torch.utils.data.TensorDataset(torch_images[int(0.8*n):],torch_labels[int(0.8*n):])\n",
    "    \n",
    "    return train_set, test_set"
   ]
  },
  {
   "cell_type": "code",
   "execution_count": 12,
   "metadata": {},
   "outputs": [],
   "source": [
    "train_set, test_set = list_to_torch(list_images, nouv_list_labels)"
   ]
  },
  {
   "cell_type": "markdown",
   "metadata": {},
   "source": [
    "# Définition et entraînement du réseau de neurones"
   ]
  },
  {
   "cell_type": "code",
   "execution_count": 13,
   "metadata": {},
   "outputs": [],
   "source": [
    "def train_epoch(net, train_set, opt, criterion, batch_size):\n",
    "    net.train()\n",
    "    trainloader = torch.utils.data.DataLoader(train_set, batch_size)\n",
    "    for x_batch, y_batch in trainloader :\n",
    "        opt.zero_grad()\n",
    "        # Forward\n",
    "        y_pred = net(x_batch.float()).logits\n",
    "        y_batch = y_batch.long()\n",
    "        # Compute diff\n",
    "        loss = criterion(y_pred, y_batch) #car le GoogleNet tout fait renvoyé un triplet\n",
    "        # Compute gradients\n",
    "        loss.backward()\n",
    "        # update weights\n",
    "        opt.step()\n",
    "\n",
    "def accuracy(net, dataset):\n",
    "    net.eval()\n",
    "    correct = 0\n",
    "    trainloader = torch.utils.data.DataLoader(dataset, batch_size=1)\n",
    "    for x_batch, y_batch in trainloader :\n",
    "        y_pred = net(x_batch.float())\n",
    "        y_pred = torch.argmax(y_pred).int()\n",
    "        if int(y_pred)==int(y_batch[0]) :\n",
    "            correct+=1\n",
    "    return correct/len(dataset)"
   ]
  },
  {
   "cell_type": "code",
   "execution_count": 14,
   "metadata": {},
   "outputs": [],
   "source": [
    "import torchvision.models as models"
   ]
  },
  {
   "cell_type": "code",
   "execution_count": 15,
   "metadata": {},
   "outputs": [],
   "source": [
    "ggnet_trained = models.googlenet(pretrained=True)"
   ]
  },
  {
   "cell_type": "code",
   "execution_count": 16,
   "metadata": {},
   "outputs": [
    {
     "name": "stderr",
     "output_type": "stream",
     "text": [
      "C:\\Users\\stani\\anaconda3\\envs\\modal\\lib\\site-packages\\torchvision\\models\\googlenet.py:73: FutureWarning: The default weight initialization of GoogleNet will be changed in future releases of torchvision. If you wish to keep the old behavior (which leads to long initialization times due to scipy/scipy#11299), please set init_weights=True.\n",
      "  ' due to scipy/scipy#11299), please set init_weights=True.', FutureWarning)\n"
     ]
    }
   ],
   "source": [
    "net = models.googlenet(num_classes = num_classes).cuda()"
   ]
  },
  {
   "cell_type": "code",
   "execution_count": 17,
   "metadata": {},
   "outputs": [],
   "source": [
    "params_trained = ggnet_trained.named_parameters()\n",
    "params = net.named_parameters()\n",
    "\n",
    "dict_params_trained = dict(params_trained)\n",
    "dict_params = dict(params)\n",
    "\n",
    "\n",
    "for name in dict_params :\n",
    "    if name[0:2]==\"fc\" or name[0:3]==\"aux\" :\n",
    "        break    \n",
    "    dict_params[name].data.copy_(dict_params_trained[name])\n",
    "    dict_params[name].data.requires_grad = False"
   ]
  },
  {
   "cell_type": "code",
   "execution_count": 18,
   "metadata": {
    "scrolled": false
   },
   "outputs": [
    {
     "name": "stderr",
     "output_type": "stream",
     "text": [
      "C:\\Users\\stani\\anaconda3\\envs\\modal\\lib\\site-packages\\ipykernel_launcher.py:15: TqdmDeprecationWarning: Please use `tqdm.notebook.trange` instead of `tqdm.tnrange`\n",
      "  from ipykernel import kernelapp as app\n"
     ]
    },
    {
     "data": {
      "application/vnd.jupyter.widget-view+json": {
       "model_id": "1b483f3407314c5193f5107e09b0ce8e",
       "version_major": 2,
       "version_minor": 0
      },
      "text/plain": [
       "HBox(children=(HTML(value=''), FloatProgress(value=0.0, max=10.0), HTML(value='')))"
      ]
     },
     "metadata": {},
     "output_type": "display_data"
    },
    {
     "name": "stdout",
     "output_type": "stream",
     "text": [
      "\n"
     ]
    },
    {
     "data": {
      "image/png": "[encoded data removed]",
      "text/plain": [
       "<Figure size 432x288 with 1 Axes>"
      ]
     },
     "metadata": {
      "needs_background": "light"
     },
     "output_type": "display_data"
    },
    {
     "name": "stdout",
     "output_type": "stream",
     "text": [
      "accuracy : 0.700206957721494\n",
      "temps d'exécution : 251.9094114502271 min\n"
     ]
    }
   ],
   "source": [
    "debut = time.time()\n",
    "\n",
    "epochs = 10\n",
    "criterion = nn.CrossEntropyLoss()\n",
    "\n",
    "opt = torch.optim.Adam(net.parameters(),lr=1e-3,betas=(0.9, 0.999),eps=1e-08)\n",
    "\n",
    "\n",
    "preci_train = []\n",
    "preci_test = []\n",
    "\n",
    "preci_train.append(accuracy(net, train_set))\n",
    "preci_test.append(accuracy(net, test_set))\n",
    "\n",
    "for i in tnrange(epochs) :\n",
    "    train_epoch(net, train_set, opt, criterion, batch_size=25)\n",
    "    preci_train.append(accuracy(net, train_set))\n",
    "    preci_test.append(accuracy(net, test_set))\n",
    "\n",
    "plt.plot(range(len(preci_train)), preci_train, label = \"train\")\n",
    "plt.plot(range(len(preci_test)), preci_test, label =  \"test\")\n",
    "plt.legend()\n",
    "plt.show()\n",
    "\n",
    "print(\"accuracy :\", accuracy(net, test_set)) \n",
    "\n",
    "fin = time.time()\n",
    "duree = fin-debut\n",
    "print(\"temps d'exécution :\", duree/60, \"min\")"
   ]
  },
  {
   "cell_type": "code",
   "execution_count": 22,
   "metadata": {},
   "outputs": [
    {
     "name": "stderr",
     "output_type": "stream",
     "text": [
      "C:\\Users\\stani\\anaconda3\\envs\\modal\\lib\\site-packages\\ipykernel_launcher.py:1: TqdmDeprecationWarning: Please use `tqdm.notebook.trange` instead of `tqdm.tnrange`\n",
      "  \"\"\"Entry point for launching an IPython kernel.\n"
     ]
    },
    {
     "data": {
      "application/vnd.jupyter.widget-view+json": {
       "model_id": "af7275ecccdd45ceae0786473402b443",
       "version_major": 2,
       "version_minor": 0
      },
      "text/plain": [
       "HBox(children=(HTML(value=''), FloatProgress(value=0.0, max=1.0), HTML(value='')))"
      ]
     },
     "metadata": {},
     "output_type": "display_data"
    },
    {
     "name": "stdout",
     "output_type": "stream",
     "text": [
      "\n"
     ]
    },
    {
     "data": {
      "image/png": "[encoded data removed]",
      "text/plain": [
       "<Figure size 432x288 with 1 Axes>"
      ]
     },
     "metadata": {
      "needs_background": "light"
     },
     "output_type": "display_data"
    },
    {
     "name": "stdout",
     "output_type": "stream",
     "text": [
      "accuracy : 0.7308071351138268\n",
      "temps d'exécution : 399.1739722728729 min\n"
     ]
    }
   ],
   "source": [
    "for i in tnrange(1) :\n",
    "    train_epoch(net, train_set, opt, criterion, batch_size=25)\n",
    "    preci_train.append(accuracy(net, train_set))\n",
    "    preci_test.append(accuracy(net, test_set))\n",
    "\n",
    "plt.plot(range(len(preci_train)), preci_train, label = \"train\")\n",
    "plt.plot(range(len(preci_test)), preci_test, label =  \"test\")\n",
    "plt.legend()\n",
    "plt.show()\n",
    "\n",
    "print(\"accuracy :\", accuracy(net, test_set)) \n",
    "\n",
    "fin = time.time()\n",
    "duree = fin-debut\n",
    "print(\"temps d'exécution :\", duree/60, \"min\")"
   ]
  },
  {
   "cell_type": "code",
   "execution_count": 23,
   "metadata": {
    "scrolled": false
   },
   "outputs": [
    {
     "name": "stderr",
     "output_type": "stream",
     "text": [
      "C:\\Users\\stani\\anaconda3\\envs\\modal\\lib\\site-packages\\ipykernel_launcher.py:1: TqdmDeprecationWarning: Please use `tqdm.notebook.trange` instead of `tqdm.tnrange`\n",
      "  \"\"\"Entry point for launching an IPython kernel.\n"
     ]
    },
    {
     "data": {
      "application/vnd.jupyter.widget-view+json": {
       "model_id": "c69343a9667f47a684bb38eb2aea6381",
       "version_major": 2,
       "version_minor": 0
      },
      "text/plain": [
       "HBox(children=(HTML(value=''), FloatProgress(value=0.0, max=1.0), HTML(value='')))"
      ]
     },
     "metadata": {},
     "output_type": "display_data"
    },
    {
     "name": "stdout",
     "output_type": "stream",
     "text": [
      "\n"
     ]
    },
    {
     "data": {
      "image/png": "[encoded data removed]",
      "text/plain": [
       "<Figure size 432x288 with 1 Axes>"
      ]
     },
     "metadata": {
      "needs_background": "light"
     },
     "output_type": "display_data"
    },
    {
     "ename": "KeyboardInterrupt",
     "evalue": "",
     "output_type": "error",
     "traceback": [
      "\u001b[1;31m---------------------------------------------------------------------------\u001b[0m",
      "\u001b[1;31mKeyboardInterrupt\u001b[0m                         Traceback (most recent call last)",
      "\u001b[1;32m<ipython-input-23-dd9f76384cd0>\u001b[0m in \u001b[0;36m<module>\u001b[1;34m\u001b[0m\n\u001b[0;32m      9\u001b[0m \u001b[0mplt\u001b[0m\u001b[1;33m.\u001b[0m\u001b[0mshow\u001b[0m\u001b[1;33m(\u001b[0m\u001b[1;33m)\u001b[0m\u001b[1;33m\u001b[0m\u001b[1;33m\u001b[0m\u001b[0m\n\u001b[0;32m     10\u001b[0m \u001b[1;33m\u001b[0m\u001b[0m\n\u001b[1;32m---> 11\u001b[1;33m \u001b[0mprint\u001b[0m\u001b[1;33m(\u001b[0m\u001b[1;34m\"accuracy :\"\u001b[0m\u001b[1;33m,\u001b[0m \u001b[0maccuracy\u001b[0m\u001b[1;33m(\u001b[0m\u001b[0mnet\u001b[0m\u001b[1;33m,\u001b[0m \u001b[0mtest_set\u001b[0m\u001b[1;33m)\u001b[0m\u001b[1;33m)\u001b[0m\u001b[1;33m\u001b[0m\u001b[1;33m\u001b[0m\u001b[0m\n\u001b[0m\u001b[0;32m     12\u001b[0m \u001b[1;33m\u001b[0m\u001b[0m\n\u001b[0;32m     13\u001b[0m \u001b[0mfin\u001b[0m \u001b[1;33m=\u001b[0m \u001b[0mtime\u001b[0m\u001b[1;33m.\u001b[0m\u001b[0mtime\u001b[0m\u001b[1;33m(\u001b[0m\u001b[1;33m)\u001b[0m\u001b[1;33m\u001b[0m\u001b[1;33m\u001b[0m\u001b[0m\n",
      "\u001b[1;32m<ipython-input-13-16024cf134f3>\u001b[0m in \u001b[0;36maccuracy\u001b[1;34m(net, dataset)\u001b[0m\n\u001b[0;32m     21\u001b[0m         \u001b[0my_pred\u001b[0m \u001b[1;33m=\u001b[0m \u001b[0mnet\u001b[0m\u001b[1;33m(\u001b[0m\u001b[0mx_batch\u001b[0m\u001b[1;33m.\u001b[0m\u001b[0mfloat\u001b[0m\u001b[1;33m(\u001b[0m\u001b[1;33m)\u001b[0m\u001b[1;33m)\u001b[0m\u001b[1;33m\u001b[0m\u001b[1;33m\u001b[0m\u001b[0m\n\u001b[0;32m     22\u001b[0m         \u001b[0my_pred\u001b[0m \u001b[1;33m=\u001b[0m \u001b[0mtorch\u001b[0m\u001b[1;33m.\u001b[0m\u001b[0margmax\u001b[0m\u001b[1;33m(\u001b[0m\u001b[0my_pred\u001b[0m\u001b[1;33m)\u001b[0m\u001b[1;33m.\u001b[0m\u001b[0mint\u001b[0m\u001b[1;33m(\u001b[0m\u001b[1;33m)\u001b[0m\u001b[1;33m\u001b[0m\u001b[1;33m\u001b[0m\u001b[0m\n\u001b[1;32m---> 23\u001b[1;33m         \u001b[1;32mif\u001b[0m \u001b[0mint\u001b[0m\u001b[1;33m(\u001b[0m\u001b[0my_pred\u001b[0m\u001b[1;33m)\u001b[0m\u001b[1;33m==\u001b[0m\u001b[0mint\u001b[0m\u001b[1;33m(\u001b[0m\u001b[0my_batch\u001b[0m\u001b[1;33m[\u001b[0m\u001b[1;36m0\u001b[0m\u001b[1;33m]\u001b[0m\u001b[1;33m)\u001b[0m \u001b[1;33m:\u001b[0m\u001b[1;33m\u001b[0m\u001b[1;33m\u001b[0m\u001b[0m\n\u001b[0m\u001b[0;32m     24\u001b[0m             \u001b[0mcorrect\u001b[0m\u001b[1;33m+=\u001b[0m\u001b[1;36m1\u001b[0m\u001b[1;33m\u001b[0m\u001b[1;33m\u001b[0m\u001b[0m\n\u001b[0;32m     25\u001b[0m     \u001b[1;32mreturn\u001b[0m \u001b[0mcorrect\u001b[0m\u001b[1;33m/\u001b[0m\u001b[0mlen\u001b[0m\u001b[1;33m(\u001b[0m\u001b[0mdataset\u001b[0m\u001b[1;33m)\u001b[0m\u001b[1;33m\u001b[0m\u001b[1;33m\u001b[0m\u001b[0m\n",
      "\u001b[1;31mKeyboardInterrupt\u001b[0m: "
     ]
    }
   ],
   "source": [
    "for i in tnrange(1) :\n",
    "    train_epoch(net, train_set, opt, criterion, batch_size=25)\n",
    "    preci_train.append(accuracy(net, train_set))\n",
    "    preci_test.append(accuracy(net, test_set))\n",
    "\n",
    "plt.plot(range(len(preci_train)), preci_train, label = \"train\")\n",
    "plt.plot(range(len(preci_test)), preci_test, label =  \"test\")\n",
    "plt.legend()\n",
    "plt.show()\n",
    "\n",
    "print(\"accuracy :\", accuracy(net, test_set)) \n",
    "\n",
    "fin = time.time()\n",
    "duree = fin-debut\n",
    "print(\"temps d'exécution :\", duree/60, \"min\")"
   ]
  },
  {
   "cell_type": "code",
   "execution_count": 24,
   "metadata": {},
   "outputs": [
    {
     "name": "stdout",
     "output_type": "stream",
     "text": [
      "accuracy : 0.7274071154035675\n"
     ]
    }
   ],
   "source": [
    "print(\"accuracy :\", preci_test[-1]) "
   ]
  },
  {
   "cell_type": "code",
   "execution_count": 25,
   "metadata": {},
   "outputs": [
    {
     "data": {
      "image/png": "[encoded data removed]",
      "text/plain": [
       "<Figure size 432x288 with 1 Axes>"
      ]
     },
     "metadata": {
      "needs_background": "light"
     },
     "output_type": "display_data"
    },
    {
     "name": "stdout",
     "output_type": "stream",
     "text": [
      "accuracy : 0.7031142209520055\n",
      "temps d'exécution : 448.57195346752803 min\n"
     ]
    }
   ],
   "source": [
    "train_epoch(net, train_set, opt, criterion, batch_size=25)\n",
    "preci_train.append(accuracy(net, train_set))\n",
    "preci_test.append(accuracy(net, test_set))\n",
    "\n",
    "plt.plot(range(len(preci_train)), preci_train, label = \"train\")\n",
    "plt.plot(range(len(preci_test)), preci_test, label =  \"test\")\n",
    "plt.legend()\n",
    "plt.show()\n",
    "\n",
    "print(\"accuracy :\", preci_test[-1]) \n",
    "\n",
    "fin = time.time()\n",
    "duree = fin-debut\n",
    "print(\"temps d'exécution :\", duree/60, \"min\")"
   ]
  }
 ],
 "metadata": {
  "kernelspec": {
   "display_name": "Python 3",
   "language": "python",
   "name": "python3"
  },
  "language_info": {
   "codemirror_mode": {
    "name": "ipython",
    "version": 3
   },
   "file_extension": ".py",
   "mimetype": "text/x-python",
   "name": "python",
   "nbconvert_exporter": "python",
   "pygments_lexer": "ipython3",
   "version": "3.7.9"
  }
 },
 "nbformat": 4,
 "nbformat_minor": 4
}
