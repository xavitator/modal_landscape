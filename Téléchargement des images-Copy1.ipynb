{
 "cells": [
  {
   "cell_type": "code",
   "execution_count": 1,
   "metadata": {},
   "outputs": [],
   "source": [
    "#!/usr/bin/python\n",
    "\n",
    "# Note to Kagglers: This script will not run directly in Kaggle kernels. You\n",
    "# need to download it and run it on your local machine.\n",
    "\n",
    "# Downloads images from the Google Landmarks dataset using multiple threads.\n",
    "# Images that already exist will not be downloaded again, so the script can\n",
    "# resume a partially completed download. All images will be saved in the JPG\n",
    "# format with 90% compression quality.\n",
    "\n",
    "import sys, os, multiprocessing, csv\n",
    "from PIL import Image\n",
    "from io import BytesIO\n",
    "from urllib.request import urlopen\n",
    "import tqdm\n",
    "from tqdm import tnrange\n",
    "\n",
    "from matplotlib import pyplot as plt\n",
    "\n",
    "\n",
    "\n",
    "\n",
    "def ParseData(data_file):\n",
    "  csvfile = open(data_file, 'r')\n",
    "  csvreader = csv.reader(csvfile)\n",
    "  dataset = [line for line in csvreader]\n",
    "  return dataset[1:]  # Chop off header\n",
    "\n",
    "\n",
    "def DownloadImage(data):\n",
    "  (key, url, label) = data\n",
    "\n",
    "  try:\n",
    "    response = urlopen(url)\n",
    "    image_data = response.read()\n",
    "  except:\n",
    "    #print('Warning: Could not download image %s from %s' % (key, url))\n",
    "    return\n",
    "\n",
    "  try:\n",
    "    pil_image = Image.open(BytesIO(image_data))\n",
    "    return pil_image\n",
    "  except:\n",
    "    #print('Warning: Failed to parse image %s' % key)\n",
    "    return\n"
   ]
  },
  {
   "cell_type": "code",
   "execution_count": 2,
   "metadata": {},
   "outputs": [],
   "source": [
    "def Create_labels (data_file):\n",
    "    dataset_url = ParseData(data_file)\n",
    "    dataset = []\n",
    "    for data in tqdm.tqdm(dataset_url[:len(dataset_url)], total=len(dataset_url)) :\n",
    "        (key, url, label) = data \n",
    "        dataset.append(int(label))\n",
    "    return dataset"
   ]
  },
  {
   "cell_type": "code",
   "execution_count": 3,
   "metadata": {
    "scrolled": true
   },
   "outputs": [
    {
     "name": "stderr",
     "output_type": "stream",
     "text": [
      "100%|███████████████████████████████████████████████████████████████████| 1225029/1225029 [00:01<00:00, 1209220.33it/s]\n"
     ]
    }
   ],
   "source": [
    "list_labels = Create_labels(\"train.csv\")"
   ]
  },
  {
   "cell_type": "code",
   "execution_count": 4,
   "metadata": {},
   "outputs": [
    {
     "data": {
      "text/plain": [
       "1225029"
      ]
     },
     "execution_count": 4,
     "metadata": {},
     "output_type": "execute_result"
    }
   ],
   "source": [
    "len(list_labels)"
   ]
  },
  {
   "cell_type": "code",
   "execution_count": 5,
   "metadata": {
    "scrolled": true
   },
   "outputs": [
    {
     "data": {
      "text/plain": [
       "14950"
      ]
     },
     "execution_count": 5,
     "metadata": {},
     "output_type": "execute_result"
    }
   ],
   "source": [
    "max(list_labels)"
   ]
  },
  {
   "cell_type": "code",
   "execution_count": 6,
   "metadata": {
    "scrolled": true
   },
   "outputs": [
    {
     "data": {
      "image/png": "[encoded data removed]",
      "text/plain": [
       "<Figure size 432x288 with 1 Axes>"
      ]
     },
     "metadata": {
      "needs_background": "light"
     },
     "output_type": "display_data"
    }
   ],
   "source": [
    "num_labels = plt.hist(list_labels, bins=range(max(list_labels)+2))"
   ]
  },
  {
   "cell_type": "code",
   "execution_count": 7,
   "metadata": {},
   "outputs": [],
   "source": [
    "num_labels = num_labels[0]"
   ]
  },
  {
   "cell_type": "code",
   "execution_count": 8,
   "metadata": {},
   "outputs": [
    {
     "data": {
      "text/plain": [
       "50337.0"
      ]
     },
     "execution_count": 8,
     "metadata": {},
     "output_type": "execute_result"
    }
   ],
   "source": [
    "max(num_labels)"
   ]
  },
  {
   "cell_type": "code",
   "execution_count": 9,
   "metadata": {},
   "outputs": [
    {
     "name": "stderr",
     "output_type": "stream",
     "text": [
      "<ipython-input-9-0739c5abb68b>:2: TqdmDeprecationWarning: Please use `tqdm.notebook.trange` instead of `tqdm.tnrange`\n",
      "  for j in tnrange(len(list_labels)) :\n"
     ]
    },
    {
     "data": {
      "application/vnd.jupyter.widget-view+json": {
       "model_id": "a3cc89de984e43f88dc2f5aded938723",
       "version_major": 2,
       "version_minor": 0
      },
      "text/plain": [
       "HBox(children=(HTML(value=''), FloatProgress(value=0.0, max=1225029.0), HTML(value='')))"
      ]
     },
     "metadata": {},
     "output_type": "display_data"
    },
    {
     "name": "stdout",
     "output_type": "stream",
     "text": [
      "\n"
     ]
    }
   ],
   "source": [
    "i= 0\n",
    "for j in tnrange(len(list_labels)) :\n",
    "    if num_labels[list_labels[i]]!=204 :\n",
    "        del list_labels[i]\n",
    "    else :\n",
    "        i=i+1"
   ]
  },
  {
   "cell_type": "code",
   "execution_count": 10,
   "metadata": {
    "scrolled": true
   },
   "outputs": [
    {
     "data": {
      "image/png": "[encoded data removed]",
      "text/plain": [
       "<Figure size 432x288 with 1 Axes>"
      ]
     },
     "metadata": {
      "needs_background": "light"
     },
     "output_type": "display_data"
    }
   ],
   "source": [
    "num_labels = plt.hist(list_labels, bins=range(14950+2))"
   ]
  },
  {
   "cell_type": "code",
   "execution_count": 11,
   "metadata": {
    "scrolled": true
   },
   "outputs": [],
   "source": [
    "num_labels = num_labels[0]"
   ]
  },
  {
   "cell_type": "code",
   "execution_count": 12,
   "metadata": {},
   "outputs": [
    {
     "data": {
      "text/plain": [
       "204.0"
      ]
     },
     "execution_count": 12,
     "metadata": {},
     "output_type": "execute_result"
    }
   ],
   "source": [
    "max(num_labels)"
   ]
  },
  {
   "cell_type": "code",
   "execution_count": 13,
   "metadata": {},
   "outputs": [
    {
     "data": {
      "text/plain": [
       "1632"
      ]
     },
     "execution_count": 13,
     "metadata": {},
     "output_type": "execute_result"
    }
   ],
   "source": [
    "len(list_labels)"
   ]
  },
  {
   "cell_type": "code",
   "execution_count": 14,
   "metadata": {},
   "outputs": [],
   "source": [
    "def CreateDataset(data_file, num_labels) :\n",
    "    dataset_url = ParseData(data_file)\n",
    "    list_labels = []\n",
    "    list_images = []\n",
    "    for data in tqdm.tqdm(dataset_url[:len(dataset_url)], total=len(dataset_url)):\n",
    "        (key, url, label) = data\n",
    "        if num_labels[int(label)]==204 :\n",
    "            pil_image = DownloadImage(data)\n",
    "            if pil_image!= None :\n",
    "                list_labels.append(label)\n",
    "                list_images.append(pil_image)\n",
    "    return list_images, list_labels"
   ]
  },
  {
   "cell_type": "code",
   "execution_count": 15,
   "metadata": {},
   "outputs": [
    {
     "name": "stderr",
     "output_type": "stream",
     "text": [
      "100%|██████████████████████████████████████████████████████████████████████| 1225029/1225029 [14:53<00:00, 1371.33it/s]\n"
     ]
    }
   ],
   "source": [
    "nouv_list_images, nouv_list_labels = CreateDataset(\"train.csv\", num_labels)"
   ]
  },
  {
   "cell_type": "code",
   "execution_count": 16,
   "metadata": {},
   "outputs": [
    {
     "data": {
      "text/plain": [
       "1399"
      ]
     },
     "execution_count": 16,
     "metadata": {},
     "output_type": "execute_result"
    }
   ],
   "source": [
    "len(nouv_list_images)"
   ]
  },
  {
   "cell_type": "code",
   "execution_count": 17,
   "metadata": {},
   "outputs": [
    {
     "name": "stderr",
     "output_type": "stream",
     "text": [
      "100%|██████████████████████████████████████████████████████████████████████████████| 1399/1399 [10:52<00:00,  2.14it/s]\n"
     ]
    }
   ],
   "source": [
    "compteur = 0\n",
    "for i in tqdm.tqdm(range(len(nouv_list_images)), total = len(nouv_list_images)) :\n",
    "        nouv_list_images[i].save(\"test200\\ \" + str(nouv_list_labels[i])+ \"image\" +str(compteur)+\".png\")\n",
    "        compteur+=1"
   ]
  }
 ],
 "metadata": {
  "kernelspec": {
   "display_name": "Python 3",
   "language": "python",
   "name": "python3"
  },
  "language_info": {
   "codemirror_mode": {
    "name": "ipython",
    "version": 3
   },
   "file_extension": ".py",
   "mimetype": "text/x-python",
   "name": "python",
   "nbconvert_exporter": "python",
   "pygments_lexer": "ipython3",
   "version": "3.8.5"
  }
 },
 "nbformat": 4,
 "nbformat_minor": 4
}
